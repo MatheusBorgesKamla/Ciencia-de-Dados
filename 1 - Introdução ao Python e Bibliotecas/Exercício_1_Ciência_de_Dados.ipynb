{
 "cells": [
  {
   "cell_type": "markdown",
   "metadata": {
    "colab_type": "text",
    "id": "DRCaRyNOBvdJ"
   },
   "source": [
    "## Sobre os dados\n",
    " \n",
    "Suponha que uma emissora de televisão te contratou para analisar o perfil dos jogadores do futebol europeu para que os narradores possam dizer estatísticas sobre eles durante os jogos.\n",
    "\n",
    "Os dados foram enviados para você numa planilha chamada `Players.csv`, onde cada linha contém os dados de um jogador e cada coluna possui um atributo.\n",
    "\n",
    "Utilize as bibliotecas Numpy e Pandas para resolver as questões."
   ]
  },
  {
   "cell_type": "code",
   "execution_count": null,
   "metadata": {
    "colab": {
     "base_uri": "https://localhost:8080/",
     "height": 122
    },
    "colab_type": "code",
    "id": "KmA8DfcECqbU",
    "outputId": "cdef0173-511c-4d6c-c290-73536fd11536"
   },
   "outputs": [
    {
     "name": "stdout",
     "output_type": "stream",
     "text": [
      "Go to this URL in a browser: https://accounts.google.com/o/oauth2/auth?client_id=947318989803-6bn6qk8qdgf4n4g3pfee6491hc0brc4i.apps.googleusercontent.com&redirect_uri=urn%3aietf%3awg%3aoauth%3a2.0%3aoob&scope=email%20https%3a%2f%2fwww.googleapis.com%2fauth%2fdocs.test%20https%3a%2f%2fwww.googleapis.com%2fauth%2fdrive%20https%3a%2f%2fwww.googleapis.com%2fauth%2fdrive.photos.readonly%20https%3a%2f%2fwww.googleapis.com%2fauth%2fpeopleapi.readonly&response_type=code\n",
      "\n",
      "Enter your authorization code:\n",
      "··········\n",
      "Mounted at /content/drive\n"
     ]
    }
   ],
   "source": [
    "# Autorize o Collab a acessar seus arquivos no drive\n",
    "from google.colab import drive\n",
    "drive.mount('/content/drive')"
   ]
  },
  {
   "cell_type": "code",
   "execution_count": 1,
   "metadata": {
    "colab": {
     "base_uri": "https://localhost:8080/",
     "height": 419
    },
    "colab_type": "code",
    "id": "PZmMHWwLDMzw",
    "outputId": "a2a76a9e-0953-4977-a1ad-ebac4134a980"
   },
   "outputs": [
    {
     "data": {
      "text/html": [
       "<div>\n",
       "<style scoped>\n",
       "    .dataframe tbody tr th:only-of-type {\n",
       "        vertical-align: middle;\n",
       "    }\n",
       "\n",
       "    .dataframe tbody tr th {\n",
       "        vertical-align: top;\n",
       "    }\n",
       "\n",
       "    .dataframe thead th {\n",
       "        text-align: right;\n",
       "    }\n",
       "</style>\n",
       "<table border=\"1\" class=\"dataframe\">\n",
       "  <thead>\n",
       "    <tr style=\"text-align: right;\">\n",
       "      <th></th>\n",
       "      <th>id</th>\n",
       "      <th>player_api_id</th>\n",
       "      <th>player_name</th>\n",
       "      <th>player_fifa_api_id</th>\n",
       "      <th>birthday</th>\n",
       "      <th>height</th>\n",
       "      <th>weight</th>\n",
       "    </tr>\n",
       "  </thead>\n",
       "  <tbody>\n",
       "    <tr>\n",
       "      <th>0</th>\n",
       "      <td>530</td>\n",
       "      <td>167285</td>\n",
       "      <td>Alireza Haghighi</td>\n",
       "      <td>191589</td>\n",
       "      <td>1988-05-02 00:00:00</td>\n",
       "      <td>193.04</td>\n",
       "      <td>176</td>\n",
       "    </tr>\n",
       "    <tr>\n",
       "      <th>1</th>\n",
       "      <td>8608</td>\n",
       "      <td>184536</td>\n",
       "      <td>Philippe Coutinho</td>\n",
       "      <td>189242</td>\n",
       "      <td>1992-06-12 00:00:00</td>\n",
       "      <td>170.18</td>\n",
       "      <td>150</td>\n",
       "    </tr>\n",
       "    <tr>\n",
       "      <th>2</th>\n",
       "      <td>7752</td>\n",
       "      <td>38947</td>\n",
       "      <td>Mustapha Jarju Alasan</td>\n",
       "      <td>178374</td>\n",
       "      <td>1986-07-18 00:00:00</td>\n",
       "      <td>182.88</td>\n",
       "      <td>179</td>\n",
       "    </tr>\n",
       "    <tr>\n",
       "      <th>3</th>\n",
       "      <td>11073</td>\n",
       "      <td>36491</td>\n",
       "      <td>Zsolt Low</td>\n",
       "      <td>111191</td>\n",
       "      <td>1979-04-29 00:00:00</td>\n",
       "      <td>180.34</td>\n",
       "      <td>154</td>\n",
       "    </tr>\n",
       "    <tr>\n",
       "      <th>4</th>\n",
       "      <td>8427</td>\n",
       "      <td>27613</td>\n",
       "      <td>Paulinho</td>\n",
       "      <td>164256</td>\n",
       "      <td>1986-01-10 00:00:00</td>\n",
       "      <td>175.26</td>\n",
       "      <td>159</td>\n",
       "    </tr>\n",
       "    <tr>\n",
       "      <th>...</th>\n",
       "      <td>...</td>\n",
       "      <td>...</td>\n",
       "      <td>...</td>\n",
       "      <td>...</td>\n",
       "      <td>...</td>\n",
       "      <td>...</td>\n",
       "      <td>...</td>\n",
       "    </tr>\n",
       "    <tr>\n",
       "      <th>345</th>\n",
       "      <td>10199</td>\n",
       "      <td>7627</td>\n",
       "      <td>Thierno Bah</td>\n",
       "      <td>45269</td>\n",
       "      <td>1982-10-05 00:00:00</td>\n",
       "      <td>175.26</td>\n",
       "      <td>150</td>\n",
       "    </tr>\n",
       "    <tr>\n",
       "      <th>346</th>\n",
       "      <td>1216</td>\n",
       "      <td>246330</td>\n",
       "      <td>Benjamin Morel</td>\n",
       "      <td>202753</td>\n",
       "      <td>1987-06-10 00:00:00</td>\n",
       "      <td>180.34</td>\n",
       "      <td>154</td>\n",
       "    </tr>\n",
       "    <tr>\n",
       "      <th>347</th>\n",
       "      <td>4262</td>\n",
       "      <td>33793</td>\n",
       "      <td>Hugo Alcantara</td>\n",
       "      <td>14491</td>\n",
       "      <td>1979-07-28 00:00:00</td>\n",
       "      <td>190.50</td>\n",
       "      <td>187</td>\n",
       "    </tr>\n",
       "    <tr>\n",
       "      <th>348</th>\n",
       "      <td>5886</td>\n",
       "      <td>173699</td>\n",
       "      <td>Koro Kone</td>\n",
       "      <td>207538</td>\n",
       "      <td>1989-07-05 00:00:00</td>\n",
       "      <td>177.80</td>\n",
       "      <td>165</td>\n",
       "    </tr>\n",
       "    <tr>\n",
       "      <th>349</th>\n",
       "      <td>7946</td>\n",
       "      <td>26137</td>\n",
       "      <td>Nicolas Gillet</td>\n",
       "      <td>12489</td>\n",
       "      <td>1976-11-08 00:00:00</td>\n",
       "      <td>185.42</td>\n",
       "      <td>185</td>\n",
       "    </tr>\n",
       "  </tbody>\n",
       "</table>\n",
       "<p>350 rows × 7 columns</p>\n",
       "</div>"
      ],
      "text/plain": [
       "        id  player_api_id            player_name  player_fifa_api_id  \\\n",
       "0      530         167285       Alireza Haghighi              191589   \n",
       "1     8608         184536      Philippe Coutinho              189242   \n",
       "2     7752          38947  Mustapha Jarju Alasan              178374   \n",
       "3    11073          36491              Zsolt Low              111191   \n",
       "4     8427          27613               Paulinho              164256   \n",
       "..     ...            ...                    ...                 ...   \n",
       "345  10199           7627            Thierno Bah               45269   \n",
       "346   1216         246330         Benjamin Morel              202753   \n",
       "347   4262          33793         Hugo Alcantara               14491   \n",
       "348   5886         173699              Koro Kone              207538   \n",
       "349   7946          26137         Nicolas Gillet               12489   \n",
       "\n",
       "                birthday  height  weight  \n",
       "0    1988-05-02 00:00:00  193.04     176  \n",
       "1    1992-06-12 00:00:00  170.18     150  \n",
       "2    1986-07-18 00:00:00  182.88     179  \n",
       "3    1979-04-29 00:00:00  180.34     154  \n",
       "4    1986-01-10 00:00:00  175.26     159  \n",
       "..                   ...     ...     ...  \n",
       "345  1982-10-05 00:00:00  175.26     150  \n",
       "346  1987-06-10 00:00:00  180.34     154  \n",
       "347  1979-07-28 00:00:00  190.50     187  \n",
       "348  1989-07-05 00:00:00  177.80     165  \n",
       "349  1976-11-08 00:00:00  185.42     185  \n",
       "\n",
       "[350 rows x 7 columns]"
      ]
     },
     "execution_count": 1,
     "metadata": {},
     "output_type": "execute_result"
    }
   ],
   "source": [
    "# Leia a planilha \n",
    "import pandas as pd\n",
    "players = pd.read_csv(\"players_sampled.csv\")\n",
    "players"
   ]
  },
  {
   "cell_type": "markdown",
   "metadata": {
    "colab_type": "text",
    "id": "AW5mhxQFD93Z"
   },
   "source": [
    "### Questão 1:\n",
    "- Transforme as datas de nascimento dos jogadores em idade e crie uma nova coluna no **DataFrame** com o novo atributo.\n",
    "  - Dica: Utilize a biblioteca [time](https://docs.python.org/3/library/time.html) do Python para trabalhar com datas\n",
    "\n",
    "- Os pesos dos jogadores foram dados em libras. Transforme os pesos dos jogadores para quilos e substitua o valor antigo da coluna no **DataFrame**.\n",
    "  - Dica: 1 lb = 0.45359237 kg\n",
    "\n",
    "- Transforme a altura dos jogadores de centímetros para metros e substitua o valor antigo da coluna no **DataFrame**."
   ]
  },
  {
   "cell_type": "code",
   "execution_count": 2,
   "metadata": {
    "colab": {
     "base_uri": "https://localhost:8080/",
     "height": 221
    },
    "colab_type": "code",
    "id": "2JaLvrD9gJDb",
    "outputId": "434bca16-c0de-4606-f0a6-6d852024e6c1"
   },
   "outputs": [
    {
     "data": {
      "text/plain": [
       "0      32\n",
       "1      28\n",
       "2      34\n",
       "3      41\n",
       "4      34\n",
       "       ..\n",
       "345    37\n",
       "346    33\n",
       "347    41\n",
       "348    31\n",
       "349    43\n",
       "Name: age, Length: 350, dtype: int64"
      ]
     },
     "execution_count": 2,
     "metadata": {},
     "output_type": "execute_result"
    }
   ],
   "source": [
    "# Comece o código aqui\n",
    "from datetime import date\n",
    "\n",
    "def calculate_age(born):\n",
    "    today = date.today()\n",
    "    return today.year - born[0] - ((today.month, today.day) < (born[1], born[2]))\n",
    "  \n",
    "def birth_to_age(elem):\n",
    "  birthday_list = []\n",
    "  for i in elem[0:10].split('-'):\n",
    "    birthday_list.append(int(i)) \n",
    "  age = calculate_age(birthday_list)\n",
    "  return age\n",
    "\n",
    "birthday_colum = players['birthday']\n",
    "age_colum = birthday_colum.apply(lambda x: birth_to_age(x))\n",
    "age_colum = age_colum.rename('age')\n",
    "age_colum"
   ]
  },
  {
   "cell_type": "code",
   "execution_count": 3,
   "metadata": {
    "colab": {
     "base_uri": "https://localhost:8080/",
     "height": 419
    },
    "colab_type": "code",
    "id": "vBMZcQ-Egopt",
    "outputId": "200bd0be-c018-4168-fecf-530980861623"
   },
   "outputs": [
    {
     "data": {
      "text/html": [
       "<div>\n",
       "<style scoped>\n",
       "    .dataframe tbody tr th:only-of-type {\n",
       "        vertical-align: middle;\n",
       "    }\n",
       "\n",
       "    .dataframe tbody tr th {\n",
       "        vertical-align: top;\n",
       "    }\n",
       "\n",
       "    .dataframe thead th {\n",
       "        text-align: right;\n",
       "    }\n",
       "</style>\n",
       "<table border=\"1\" class=\"dataframe\">\n",
       "  <thead>\n",
       "    <tr style=\"text-align: right;\">\n",
       "      <th></th>\n",
       "      <th>id</th>\n",
       "      <th>player_api_id</th>\n",
       "      <th>player_name</th>\n",
       "      <th>player_fifa_api_id</th>\n",
       "      <th>birthday</th>\n",
       "      <th>height</th>\n",
       "      <th>weight</th>\n",
       "      <th>age</th>\n",
       "    </tr>\n",
       "  </thead>\n",
       "  <tbody>\n",
       "    <tr>\n",
       "      <th>0</th>\n",
       "      <td>530</td>\n",
       "      <td>167285</td>\n",
       "      <td>Alireza Haghighi</td>\n",
       "      <td>191589</td>\n",
       "      <td>1988-05-02 00:00:00</td>\n",
       "      <td>1.9304</td>\n",
       "      <td>79.832257</td>\n",
       "      <td>32</td>\n",
       "    </tr>\n",
       "    <tr>\n",
       "      <th>1</th>\n",
       "      <td>8608</td>\n",
       "      <td>184536</td>\n",
       "      <td>Philippe Coutinho</td>\n",
       "      <td>189242</td>\n",
       "      <td>1992-06-12 00:00:00</td>\n",
       "      <td>1.7018</td>\n",
       "      <td>68.038855</td>\n",
       "      <td>28</td>\n",
       "    </tr>\n",
       "    <tr>\n",
       "      <th>2</th>\n",
       "      <td>7752</td>\n",
       "      <td>38947</td>\n",
       "      <td>Mustapha Jarju Alasan</td>\n",
       "      <td>178374</td>\n",
       "      <td>1986-07-18 00:00:00</td>\n",
       "      <td>1.8288</td>\n",
       "      <td>81.193034</td>\n",
       "      <td>34</td>\n",
       "    </tr>\n",
       "    <tr>\n",
       "      <th>3</th>\n",
       "      <td>11073</td>\n",
       "      <td>36491</td>\n",
       "      <td>Zsolt Low</td>\n",
       "      <td>111191</td>\n",
       "      <td>1979-04-29 00:00:00</td>\n",
       "      <td>1.8034</td>\n",
       "      <td>69.853225</td>\n",
       "      <td>41</td>\n",
       "    </tr>\n",
       "    <tr>\n",
       "      <th>4</th>\n",
       "      <td>8427</td>\n",
       "      <td>27613</td>\n",
       "      <td>Paulinho</td>\n",
       "      <td>164256</td>\n",
       "      <td>1986-01-10 00:00:00</td>\n",
       "      <td>1.7526</td>\n",
       "      <td>72.121187</td>\n",
       "      <td>34</td>\n",
       "    </tr>\n",
       "    <tr>\n",
       "      <th>...</th>\n",
       "      <td>...</td>\n",
       "      <td>...</td>\n",
       "      <td>...</td>\n",
       "      <td>...</td>\n",
       "      <td>...</td>\n",
       "      <td>...</td>\n",
       "      <td>...</td>\n",
       "      <td>...</td>\n",
       "    </tr>\n",
       "    <tr>\n",
       "      <th>345</th>\n",
       "      <td>10199</td>\n",
       "      <td>7627</td>\n",
       "      <td>Thierno Bah</td>\n",
       "      <td>45269</td>\n",
       "      <td>1982-10-05 00:00:00</td>\n",
       "      <td>1.7526</td>\n",
       "      <td>68.038855</td>\n",
       "      <td>37</td>\n",
       "    </tr>\n",
       "    <tr>\n",
       "      <th>346</th>\n",
       "      <td>1216</td>\n",
       "      <td>246330</td>\n",
       "      <td>Benjamin Morel</td>\n",
       "      <td>202753</td>\n",
       "      <td>1987-06-10 00:00:00</td>\n",
       "      <td>1.8034</td>\n",
       "      <td>69.853225</td>\n",
       "      <td>33</td>\n",
       "    </tr>\n",
       "    <tr>\n",
       "      <th>347</th>\n",
       "      <td>4262</td>\n",
       "      <td>33793</td>\n",
       "      <td>Hugo Alcantara</td>\n",
       "      <td>14491</td>\n",
       "      <td>1979-07-28 00:00:00</td>\n",
       "      <td>1.9050</td>\n",
       "      <td>84.821773</td>\n",
       "      <td>41</td>\n",
       "    </tr>\n",
       "    <tr>\n",
       "      <th>348</th>\n",
       "      <td>5886</td>\n",
       "      <td>173699</td>\n",
       "      <td>Koro Kone</td>\n",
       "      <td>207538</td>\n",
       "      <td>1989-07-05 00:00:00</td>\n",
       "      <td>1.7780</td>\n",
       "      <td>74.842741</td>\n",
       "      <td>31</td>\n",
       "    </tr>\n",
       "    <tr>\n",
       "      <th>349</th>\n",
       "      <td>7946</td>\n",
       "      <td>26137</td>\n",
       "      <td>Nicolas Gillet</td>\n",
       "      <td>12489</td>\n",
       "      <td>1976-11-08 00:00:00</td>\n",
       "      <td>1.8542</td>\n",
       "      <td>83.914588</td>\n",
       "      <td>43</td>\n",
       "    </tr>\n",
       "  </tbody>\n",
       "</table>\n",
       "<p>350 rows × 8 columns</p>\n",
       "</div>"
      ],
      "text/plain": [
       "        id  player_api_id            player_name  player_fifa_api_id  \\\n",
       "0      530         167285       Alireza Haghighi              191589   \n",
       "1     8608         184536      Philippe Coutinho              189242   \n",
       "2     7752          38947  Mustapha Jarju Alasan              178374   \n",
       "3    11073          36491              Zsolt Low              111191   \n",
       "4     8427          27613               Paulinho              164256   \n",
       "..     ...            ...                    ...                 ...   \n",
       "345  10199           7627            Thierno Bah               45269   \n",
       "346   1216         246330         Benjamin Morel              202753   \n",
       "347   4262          33793         Hugo Alcantara               14491   \n",
       "348   5886         173699              Koro Kone              207538   \n",
       "349   7946          26137         Nicolas Gillet               12489   \n",
       "\n",
       "                birthday  height     weight  age  \n",
       "0    1988-05-02 00:00:00  1.9304  79.832257   32  \n",
       "1    1992-06-12 00:00:00  1.7018  68.038855   28  \n",
       "2    1986-07-18 00:00:00  1.8288  81.193034   34  \n",
       "3    1979-04-29 00:00:00  1.8034  69.853225   41  \n",
       "4    1986-01-10 00:00:00  1.7526  72.121187   34  \n",
       "..                   ...     ...        ...  ...  \n",
       "345  1982-10-05 00:00:00  1.7526  68.038855   37  \n",
       "346  1987-06-10 00:00:00  1.8034  69.853225   33  \n",
       "347  1979-07-28 00:00:00  1.9050  84.821773   41  \n",
       "348  1989-07-05 00:00:00  1.7780  74.842741   31  \n",
       "349  1976-11-08 00:00:00  1.8542  83.914588   43  \n",
       "\n",
       "[350 rows x 8 columns]"
      ]
     },
     "execution_count": 3,
     "metadata": {},
     "output_type": "execute_result"
    }
   ],
   "source": [
    "players['age'] = age_colum  #coluna idade\n",
    "players['weight'] = players['weight'].apply(lambda x: x*0.45359237 )  #coluna peso em kg\n",
    "players['height'] = players['height'].apply(lambda x: x/100 ) #coluna altura em metros\n",
    "players"
   ]
  },
  {
   "cell_type": "markdown",
   "metadata": {
    "colab_type": "text",
    "id": "mX2Joi_uC06u"
   },
   "source": [
    "### Questão 2: \n",
    "Calcule a média e variância de cada atributo da base (utilize a idade, peso em kg e altura calculadas anteriormente)"
   ]
  },
  {
   "cell_type": "code",
   "execution_count": 4,
   "metadata": {
    "colab": {
     "base_uri": "https://localhost:8080/",
     "height": 170
    },
    "colab_type": "code",
    "id": "zipXsKbFDiLv",
    "outputId": "a7e449fe-e48f-4ce7-bc8a-518efd486d41"
   },
   "outputs": [
    {
     "name": "stdout",
     "output_type": "stream",
     "text": [
      "                         0\n",
      "Média altura      1.820164\n",
      "Variância altura  0.003669\n",
      "                        0\n",
      "Média peso      76.454938\n",
      "Variância peso  41.281539\n",
      "                         0\n",
      "Média idade      33.351429\n",
      "Variância idade  26.526574\n"
     ]
    }
   ],
   "source": [
    "# Comece o código aqui\n",
    "height_colum = players['height']\n",
    "weight_colum = players['weight']\n",
    "analise_altura = pd.DataFrame([height_colum.mean(), height_colum.var()], index=['Média altura', 'Variância altura'])\n",
    "analise_peso = pd.DataFrame([weight_colum.mean(), weight_colum.var()], index=['Média peso', 'Variância peso'])\n",
    "analise_idade = pd.DataFrame([age_colum.mean(), age_colum.var()], index=['Média idade', 'Variância idade'])\n",
    "\n",
    "print(analise_altura)\n",
    "print(analise_peso)\n",
    "print(analise_idade)\n"
   ]
  },
  {
   "cell_type": "markdown",
   "metadata": {
    "colab_type": "text",
    "id": "jGGtgKp6DwEl"
   },
   "source": [
    "### Questão 3:\n",
    "Faça um histograma dos valores de cada atributo"
   ]
  },
  {
   "cell_type": "code",
   "execution_count": 5,
   "metadata": {
    "colab": {
     "base_uri": "https://localhost:8080/",
     "height": 854
    },
    "colab_type": "code",
    "id": "kFihDL9uE1fD",
    "outputId": "08489b6a-db5a-4214-efbf-38a943d8181e"
   },
   "outputs": [
    {
     "name": "stdout",
     "output_type": "stream",
     "text": [
      "height\n"
     ]
    },
    {
     "data": {
      "image/png": "[encoded data removed]",
      "text/plain": [
       "<Figure size 432x288 with 1 Axes>"
      ]
     },
     "metadata": {
      "needs_background": "light"
     },
     "output_type": "display_data"
    },
    {
     "name": "stdout",
     "output_type": "stream",
     "text": [
      "weight\n"
     ]
    },
    {
     "data": {
      "image/png": "[encoded data removed]",
      "text/plain": [
       "<Figure size 432x288 with 1 Axes>"
      ]
     },
     "metadata": {
      "needs_background": "light"
     },
     "output_type": "display_data"
    },
    {
     "name": "stdout",
     "output_type": "stream",
     "text": [
      "age\n"
     ]
    },
    {
     "data": {
      "image/png": "[encoded data removed]",
      "text/plain": [
       "<Figure size 432x288 with 1 Axes>"
      ]
     },
     "metadata": {
      "needs_background": "light"
     },
     "output_type": "display_data"
    }
   ],
   "source": [
    "import matplotlib.pyplot as plt\n",
    "\n",
    "for column in players.columns[5:]:\n",
    "  print(column)\n",
    "  _ = plt.hist(players[column])\n",
    "  _ = plt.ylabel('number of players')\n",
    "  _ = plt.xlabel(column)\n",
    "\n",
    "  plt.show()\n"
   ]
  },
  {
   "cell_type": "markdown",
   "metadata": {
    "colab_type": "text",
    "id": "8znRiKkGGuOP"
   },
   "source": [
    "### Questão 4:\n",
    "Mostre o nome do jogador mais pesado e mais leve, mais novo e mais velho e o mais alto e mais baixo."
   ]
  },
  {
   "cell_type": "code",
   "execution_count": 6,
   "metadata": {
    "colab": {
     "base_uri": "https://localhost:8080/",
     "height": 595
    },
    "colab_type": "code",
    "id": "IVdom1tEHWPr",
    "outputId": "f02d1de7-f313-4b3d-e69d-5060afd8c0cc"
   },
   "outputs": [
    {
     "name": "stdout",
     "output_type": "stream",
     "text": [
      "Max category: height\n",
      "Name: Yves Makaba-Makalamby\n",
      "Value: 1.9812 m\n",
      "\n",
      "\n",
      "Max category: weight\n",
      "Name: Yves Makaba-Makalamby\n",
      "Value: 96.16158244 kg\n",
      "\n",
      "\n",
      "Max category: age\n",
      "Name: Roberto Abbondanzieri\n",
      "Value: 48 years\n",
      "\n",
      "\n",
      "\n",
      "\n",
      "\n",
      "\n",
      "Min category: height\n",
      "Name: Sebastian Giovinco\n",
      "Value: 1.651 m\n",
      "\n",
      "\n",
      "Min category: weight\n",
      "Name: Sebastian Giovinco\n",
      "Value: 58.9670081 kg\n",
      "\n",
      "\n",
      "Min category: age\n",
      "Name: Jonathan Leko\n",
      "Value: 21 years\n",
      "\n",
      "\n"
     ]
    }
   ],
   "source": [
    "# Comece o código aqui\n",
    "import operator\n",
    "\n",
    "categories = [\"height\", \"weight\", \"age\"]\n",
    "measures = [\"m\", \"kg\", \"years\"]\n",
    "\n",
    "for idx,category in enumerate(categories):\n",
    "  index, value = max(enumerate(players[category]), key=operator.itemgetter(1))\n",
    "  print(\"Max category:\", category )\n",
    "  print(\"Name:\", players[\"player_name\"][index])\n",
    "  print(\"Value:\", value, measures[idx])\n",
    "  print(\"\\n\")\n",
    "\n",
    "\n",
    "print(\"\\n\")\n",
    "print(\"\\n\")\n",
    "\n",
    "for idx,category in enumerate(categories):\n",
    "  index, value = min(enumerate(players[category]), key=operator.itemgetter(1))\n",
    "  print(\"Min category:\", category )\n",
    "  print(\"Name:\", players[\"player_name\"][index])\n",
    "  print(\"Value:\", value, measures[idx])\n",
    "  print(\"\\n\")"
   ]
  },
  {
   "cell_type": "code",
   "execution_count": 7,
   "metadata": {
    "colab": {},
    "colab_type": "code",
    "id": "6BIc2P0woKe2"
   },
   "outputs": [],
   "source": [
    "players.to_csv(\"jogadores.csv\")"
   ]
  }
 ],
 "metadata": {
  "colab": {
   "collapsed_sections": [],
   "name": "Exercício 1 - Ciência de Dados.ipynb",
   "provenance": []
  },
  "kernelspec": {
   "display_name": "Python 3",
   "language": "python",
   "name": "python3"
  },
  "language_info": {
   "codemirror_mode": {
    "name": "ipython",
    "version": 3
   },
   "file_extension": ".py",
   "mimetype": "text/x-python",
   "name": "python",
   "nbconvert_exporter": "python",
   "pygments_lexer": "ipython3",
   "version": "3.7.7"
  }
 },
 "nbformat": 4,
 "nbformat_minor": 1
}
