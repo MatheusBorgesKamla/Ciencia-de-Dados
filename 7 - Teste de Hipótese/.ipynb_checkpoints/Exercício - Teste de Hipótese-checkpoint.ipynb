{
 "cells": [
  {
   "cell_type": "markdown",
   "metadata": {
    "id": "CI8fNbys1WIN"
   },
   "source": [
    "\n",
    "# Exercício 07\n",
    "## Teste de Hipótese"
   ]
  },
  {
   "cell_type": "markdown",
   "metadata": {
    "id": "ae7mLCZI-DjC"
   },
   "source": [
    "---\n"
   ]
  },
  {
   "cell_type": "markdown",
   "metadata": {
    "id": "ugQ3MbYx99I-"
   },
   "source": [
    "## Objetivos da prática:\n",
    "- Utilizar testes estatísticos para selecionar um modelo\n",
    "- Utilizar ferramentas visuais para avaliar modelos"
   ]
  },
  {
   "cell_type": "markdown",
   "metadata": {
    "id": "R6lfIEgb1WIQ"
   },
   "source": [
    "\n",
    "---\n",
    "\n",
    "## Funções novas utilizadas no exercício\n",
    "\n",
    "- `pandas.Series.nunique()` ([link](https://pandas.pydata.org/pandas-docs/stable/reference/api/pandas.Series.nunique.html)): Conta quantidade de valores únicos de uma coluna. Útil para verificar se uma coluna é relevante ou não\n",
    "- `scipy.stats.ttest_rel()` ([link](https://docs.scipy.org/doc/scipy/reference/generated/scipy.stats.ttest_rel.html)): Calcula o teste t para duas amostras\n",
    "- `scipy.stats` ([link](https://docs.scipy.org/doc/scipy/reference/stats.html)) Implementações de alguns testes estatísticos\n",
    "- `sklearn.metrics.plot_roc_curve()` ([link](https://scikit-learn.org/stable/modules/generated/sklearn.metrics.plot_roc_curve.html)): Plota a curva ROC de um classificador dado um conjunto de input e alvo\n",
    "\n",
    "\n"
   ]
  },
  {
   "cell_type": "markdown",
   "metadata": {
    "id": "GD84PKIi1WIR"
   },
   "source": [
    "\n",
    "---\n",
    "\n",
    "Nesse exercício utilizaremos o dataset [Titanic](https://www.kaggle.com/c/titanic/overview) disponível no arquivo `titanic.csv`. Ele é um dataset de classificação binário, onde o objetivo é prever se um dado passageiro do titanic sobreviveu ou não ao naufrágio. Informações sobre os atributos podem ser vistas [aqui](https://www.kaggle.com/c/titanic/data)\n",
    "\n",
    "---\n"
   ]
  },
  {
   "cell_type": "markdown",
   "metadata": {
    "id": "-DsLbxZc8sDL"
   },
   "source": [
    "### Questão 01.\n",
    "\n",
    "Faça a exploração dos dados. Isto é, carregue, substitua valores faltantes, padronize os dados, etc. Faça também a seleção dos atributos que achar mais relevantes. \n",
    "\n",
    " - Dica: Tente utilizar a função `nunique()` durante a exploração dos dados. Você pode utilizar a correlação entre atributos, PCA, ou até mesmo o \"bom senso\" na hora de escolher qual atributo do conjunto manter, desde que seja justificado."
   ]
  },
  {
   "cell_type": "code",
   "execution_count": null,
   "metadata": {
    "colab": {
     "base_uri": "https://localhost:8080/"
    },
    "executionInfo": {
     "elapsed": 773,
     "status": "ok",
     "timestamp": 1605574246540,
     "user": {
      "displayName": "Joao Marco Oliveira Barros",
      "photoUrl": "https://lh3.googleusercontent.com/a-/AOh14GhlalpTrWcpNDZNwz3_FJ1R_r7JrQKdU9vifSepwA=s64",
      "userId": "03055836678225249861"
     },
     "user_tz": 180
    },
    "id": "dJ0DLWpWhZVH",
    "outputId": "2be18e8c-2abd-4c8a-f3a7-066f23f91e96"
   },
   "outputs": [
    {
     "name": "stdout",
     "output_type": "stream",
     "text": [
      "Drive already mounted at /content/drive; to attempt to forcibly remount, call drive.mount(\"/content/drive\", force_remount=True).\n"
     ]
    }
   ],
   "source": [
    "from google.colab import drive\n",
    "drive.mount('/content/drive')"
   ]
  },
  {
   "cell_type": "code",
   "execution_count": null,
   "metadata": {
    "colab": {
     "base_uri": "https://localhost:8080/",
     "height": 476
    },
    "executionInfo": {
     "elapsed": 1036,
     "status": "ok",
     "timestamp": 1605574246815,
     "user": {
      "displayName": "Joao Marco Oliveira Barros",
      "photoUrl": "https://lh3.googleusercontent.com/a-/AOh14GhlalpTrWcpNDZNwz3_FJ1R_r7JrQKdU9vifSepwA=s64",
      "userId": "03055836678225249861"
     },
     "user_tz": 180
    },
    "id": "g4kdTndLGTx5",
    "outputId": "1a8cd59e-52b8-483a-b7a4-e8d4b281da4f"
   },
   "outputs": [
    {
     "data": {
      "text/html": [
       "<div>\n",
       "<style scoped>\n",
       "    .dataframe tbody tr th:only-of-type {\n",
       "        vertical-align: middle;\n",
       "    }\n",
       "\n",
       "    .dataframe tbody tr th {\n",
       "        vertical-align: top;\n",
       "    }\n",
       "\n",
       "    .dataframe thead th {\n",
       "        text-align: right;\n",
       "    }\n",
       "</style>\n",
       "<table border=\"1\" class=\"dataframe\">\n",
       "  <thead>\n",
       "    <tr style=\"text-align: right;\">\n",
       "      <th></th>\n",
       "      <th>PassengerId</th>\n",
       "      <th>Survived</th>\n",
       "      <th>Pclass</th>\n",
       "      <th>Name</th>\n",
       "      <th>Sex</th>\n",
       "      <th>Age</th>\n",
       "      <th>SibSp</th>\n",
       "      <th>Parch</th>\n",
       "      <th>Ticket</th>\n",
       "      <th>Fare</th>\n",
       "      <th>Cabin</th>\n",
       "      <th>Embarked</th>\n",
       "    </tr>\n",
       "  </thead>\n",
       "  <tbody>\n",
       "    <tr>\n",
       "      <th>0</th>\n",
       "      <td>1</td>\n",
       "      <td>0</td>\n",
       "      <td>3</td>\n",
       "      <td>Braund, Mr. Owen Harris</td>\n",
       "      <td>male</td>\n",
       "      <td>22.0</td>\n",
       "      <td>1</td>\n",
       "      <td>0</td>\n",
       "      <td>A/5 21171</td>\n",
       "      <td>7.2500</td>\n",
       "      <td>NaN</td>\n",
       "      <td>S</td>\n",
       "    </tr>\n",
       "    <tr>\n",
       "      <th>1</th>\n",
       "      <td>2</td>\n",
       "      <td>1</td>\n",
       "      <td>1</td>\n",
       "      <td>Cumings, Mrs. John Bradley (Florence Briggs Th...</td>\n",
       "      <td>female</td>\n",
       "      <td>38.0</td>\n",
       "      <td>1</td>\n",
       "      <td>0</td>\n",
       "      <td>PC 17599</td>\n",
       "      <td>71.2833</td>\n",
       "      <td>C85</td>\n",
       "      <td>C</td>\n",
       "    </tr>\n",
       "    <tr>\n",
       "      <th>2</th>\n",
       "      <td>3</td>\n",
       "      <td>1</td>\n",
       "      <td>3</td>\n",
       "      <td>Heikkinen, Miss. Laina</td>\n",
       "      <td>female</td>\n",
       "      <td>26.0</td>\n",
       "      <td>0</td>\n",
       "      <td>0</td>\n",
       "      <td>STON/O2. 3101282</td>\n",
       "      <td>7.9250</td>\n",
       "      <td>NaN</td>\n",
       "      <td>S</td>\n",
       "    </tr>\n",
       "    <tr>\n",
       "      <th>3</th>\n",
       "      <td>4</td>\n",
       "      <td>1</td>\n",
       "      <td>1</td>\n",
       "      <td>Futrelle, Mrs. Jacques Heath (Lily May Peel)</td>\n",
       "      <td>female</td>\n",
       "      <td>35.0</td>\n",
       "      <td>1</td>\n",
       "      <td>0</td>\n",
       "      <td>113803</td>\n",
       "      <td>53.1000</td>\n",
       "      <td>C123</td>\n",
       "      <td>S</td>\n",
       "    </tr>\n",
       "    <tr>\n",
       "      <th>4</th>\n",
       "      <td>5</td>\n",
       "      <td>0</td>\n",
       "      <td>3</td>\n",
       "      <td>Allen, Mr. William Henry</td>\n",
       "      <td>male</td>\n",
       "      <td>35.0</td>\n",
       "      <td>0</td>\n",
       "      <td>0</td>\n",
       "      <td>373450</td>\n",
       "      <td>8.0500</td>\n",
       "      <td>NaN</td>\n",
       "      <td>S</td>\n",
       "    </tr>\n",
       "    <tr>\n",
       "      <th>...</th>\n",
       "      <td>...</td>\n",
       "      <td>...</td>\n",
       "      <td>...</td>\n",
       "      <td>...</td>\n",
       "      <td>...</td>\n",
       "      <td>...</td>\n",
       "      <td>...</td>\n",
       "      <td>...</td>\n",
       "      <td>...</td>\n",
       "      <td>...</td>\n",
       "      <td>...</td>\n",
       "      <td>...</td>\n",
       "    </tr>\n",
       "    <tr>\n",
       "      <th>886</th>\n",
       "      <td>887</td>\n",
       "      <td>0</td>\n",
       "      <td>2</td>\n",
       "      <td>Montvila, Rev. Juozas</td>\n",
       "      <td>male</td>\n",
       "      <td>27.0</td>\n",
       "      <td>0</td>\n",
       "      <td>0</td>\n",
       "      <td>211536</td>\n",
       "      <td>13.0000</td>\n",
       "      <td>NaN</td>\n",
       "      <td>S</td>\n",
       "    </tr>\n",
       "    <tr>\n",
       "      <th>887</th>\n",
       "      <td>888</td>\n",
       "      <td>1</td>\n",
       "      <td>1</td>\n",
       "      <td>Graham, Miss. Margaret Edith</td>\n",
       "      <td>female</td>\n",
       "      <td>19.0</td>\n",
       "      <td>0</td>\n",
       "      <td>0</td>\n",
       "      <td>112053</td>\n",
       "      <td>30.0000</td>\n",
       "      <td>B42</td>\n",
       "      <td>S</td>\n",
       "    </tr>\n",
       "    <tr>\n",
       "      <th>888</th>\n",
       "      <td>889</td>\n",
       "      <td>0</td>\n",
       "      <td>3</td>\n",
       "      <td>Johnston, Miss. Catherine Helen \"Carrie\"</td>\n",
       "      <td>female</td>\n",
       "      <td>NaN</td>\n",
       "      <td>1</td>\n",
       "      <td>2</td>\n",
       "      <td>W./C. 6607</td>\n",
       "      <td>23.4500</td>\n",
       "      <td>NaN</td>\n",
       "      <td>S</td>\n",
       "    </tr>\n",
       "    <tr>\n",
       "      <th>889</th>\n",
       "      <td>890</td>\n",
       "      <td>1</td>\n",
       "      <td>1</td>\n",
       "      <td>Behr, Mr. Karl Howell</td>\n",
       "      <td>male</td>\n",
       "      <td>26.0</td>\n",
       "      <td>0</td>\n",
       "      <td>0</td>\n",
       "      <td>111369</td>\n",
       "      <td>30.0000</td>\n",
       "      <td>C148</td>\n",
       "      <td>C</td>\n",
       "    </tr>\n",
       "    <tr>\n",
       "      <th>890</th>\n",
       "      <td>891</td>\n",
       "      <td>0</td>\n",
       "      <td>3</td>\n",
       "      <td>Dooley, Mr. Patrick</td>\n",
       "      <td>male</td>\n",
       "      <td>32.0</td>\n",
       "      <td>0</td>\n",
       "      <td>0</td>\n",
       "      <td>370376</td>\n",
       "      <td>7.7500</td>\n",
       "      <td>NaN</td>\n",
       "      <td>Q</td>\n",
       "    </tr>\n",
       "  </tbody>\n",
       "</table>\n",
       "<p>891 rows × 12 columns</p>\n",
       "</div>"
      ],
      "text/plain": [
       "     PassengerId  Survived  Pclass  ...     Fare Cabin  Embarked\n",
       "0              1         0       3  ...   7.2500   NaN         S\n",
       "1              2         1       1  ...  71.2833   C85         C\n",
       "2              3         1       3  ...   7.9250   NaN         S\n",
       "3              4         1       1  ...  53.1000  C123         S\n",
       "4              5         0       3  ...   8.0500   NaN         S\n",
       "..           ...       ...     ...  ...      ...   ...       ...\n",
       "886          887         0       2  ...  13.0000   NaN         S\n",
       "887          888         1       1  ...  30.0000   B42         S\n",
       "888          889         0       3  ...  23.4500   NaN         S\n",
       "889          890         1       1  ...  30.0000  C148         C\n",
       "890          891         0       3  ...   7.7500   NaN         Q\n",
       "\n",
       "[891 rows x 12 columns]"
      ]
     },
     "execution_count": 22,
     "metadata": {
      "tags": []
     },
     "output_type": "execute_result"
    }
   ],
   "source": [
    "import pandas as pd\n",
    "import numpy as np\n",
    "dados = pd.read_csv(\"/content/drive/MyDrive/Ciencia de Dados/Aula 09/titanic.csv\")\n",
    "\n",
    "dados"
   ]
  },
  {
   "cell_type": "markdown",
   "metadata": {
    "id": "t9KYVL8VKLXk"
   },
   "source": [
    "\n",
    "**Atributo Definição Valor** \n",
    "\n",
    "- survival: Sobrevivente 0=Não, 1=Sim\n",
    "- pclass: Classe do passageiro 1=Primeira, 2=Segunda, 3=Terceira\n",
    "-sex: Sexo \n",
    "- Age: Idade em anos \n",
    "-sibsp: Número de irmãos por cônjugue abordo\n",
    "-parch: Número de pais por criança abordo \n",
    "-ticket: Número do bilhete \n",
    "-fare: Valor pago \n",
    "-cabin: Número da cabine \n",
    "-embarked: Porto de embarque C=Cherbourg, Q=Queenstown, S=Southampton "
   ]
  },
  {
   "cell_type": "markdown",
   "metadata": {
    "id": "r2z_yv9fJYNn"
   },
   "source": [
    "Retirando atributos que nitidamente não apresentam nenhuma relação com a saída e que logo não irão contribuir para a classificação. São eles:\n",
    "- ID do passageiro \n",
    "- Nome do passageiro\n",
    "- Número do ticket\n",
    "- Número da cabine. \n",
    "\n",
    "Todos esses atributos não apresentam um significado para o problema em questão, pois são somente atributos de identificação, logo podemos descartá-los por conta de não contribuirem para os modelos classificadores"
   ]
  },
  {
   "cell_type": "code",
   "execution_count": null,
   "metadata": {
    "colab": {
     "base_uri": "https://localhost:8080/",
     "height": 407
    },
    "executionInfo": {
     "elapsed": 1040,
     "status": "ok",
     "timestamp": 1605574246832,
     "user": {
      "displayName": "Joao Marco Oliveira Barros",
      "photoUrl": "https://lh3.googleusercontent.com/a-/AOh14GhlalpTrWcpNDZNwz3_FJ1R_r7JrQKdU9vifSepwA=s64",
      "userId": "03055836678225249861"
     },
     "user_tz": 180
    },
    "id": "90sZa3bUI2Ob",
    "outputId": "9f91792f-aca5-43e6-b50d-36bf516e5d13"
   },
   "outputs": [
    {
     "data": {
      "text/html": [
       "<div>\n",
       "<style scoped>\n",
       "    .dataframe tbody tr th:only-of-type {\n",
       "        vertical-align: middle;\n",
       "    }\n",
       "\n",
       "    .dataframe tbody tr th {\n",
       "        vertical-align: top;\n",
       "    }\n",
       "\n",
       "    .dataframe thead th {\n",
       "        text-align: right;\n",
       "    }\n",
       "</style>\n",
       "<table border=\"1\" class=\"dataframe\">\n",
       "  <thead>\n",
       "    <tr style=\"text-align: right;\">\n",
       "      <th></th>\n",
       "      <th>Survived</th>\n",
       "      <th>Pclass</th>\n",
       "      <th>Sex</th>\n",
       "      <th>Age</th>\n",
       "      <th>SibSp</th>\n",
       "      <th>Parch</th>\n",
       "      <th>Fare</th>\n",
       "      <th>Embarked</th>\n",
       "    </tr>\n",
       "  </thead>\n",
       "  <tbody>\n",
       "    <tr>\n",
       "      <th>0</th>\n",
       "      <td>0</td>\n",
       "      <td>3</td>\n",
       "      <td>male</td>\n",
       "      <td>22.0</td>\n",
       "      <td>1</td>\n",
       "      <td>0</td>\n",
       "      <td>7.2500</td>\n",
       "      <td>S</td>\n",
       "    </tr>\n",
       "    <tr>\n",
       "      <th>1</th>\n",
       "      <td>1</td>\n",
       "      <td>1</td>\n",
       "      <td>female</td>\n",
       "      <td>38.0</td>\n",
       "      <td>1</td>\n",
       "      <td>0</td>\n",
       "      <td>71.2833</td>\n",
       "      <td>C</td>\n",
       "    </tr>\n",
       "    <tr>\n",
       "      <th>2</th>\n",
       "      <td>1</td>\n",
       "      <td>3</td>\n",
       "      <td>female</td>\n",
       "      <td>26.0</td>\n",
       "      <td>0</td>\n",
       "      <td>0</td>\n",
       "      <td>7.9250</td>\n",
       "      <td>S</td>\n",
       "    </tr>\n",
       "    <tr>\n",
       "      <th>3</th>\n",
       "      <td>1</td>\n",
       "      <td>1</td>\n",
       "      <td>female</td>\n",
       "      <td>35.0</td>\n",
       "      <td>1</td>\n",
       "      <td>0</td>\n",
       "      <td>53.1000</td>\n",
       "      <td>S</td>\n",
       "    </tr>\n",
       "    <tr>\n",
       "      <th>4</th>\n",
       "      <td>0</td>\n",
       "      <td>3</td>\n",
       "      <td>male</td>\n",
       "      <td>35.0</td>\n",
       "      <td>0</td>\n",
       "      <td>0</td>\n",
       "      <td>8.0500</td>\n",
       "      <td>S</td>\n",
       "    </tr>\n",
       "    <tr>\n",
       "      <th>...</th>\n",
       "      <td>...</td>\n",
       "      <td>...</td>\n",
       "      <td>...</td>\n",
       "      <td>...</td>\n",
       "      <td>...</td>\n",
       "      <td>...</td>\n",
       "      <td>...</td>\n",
       "      <td>...</td>\n",
       "    </tr>\n",
       "    <tr>\n",
       "      <th>886</th>\n",
       "      <td>0</td>\n",
       "      <td>2</td>\n",
       "      <td>male</td>\n",
       "      <td>27.0</td>\n",
       "      <td>0</td>\n",
       "      <td>0</td>\n",
       "      <td>13.0000</td>\n",
       "      <td>S</td>\n",
       "    </tr>\n",
       "    <tr>\n",
       "      <th>887</th>\n",
       "      <td>1</td>\n",
       "      <td>1</td>\n",
       "      <td>female</td>\n",
       "      <td>19.0</td>\n",
       "      <td>0</td>\n",
       "      <td>0</td>\n",
       "      <td>30.0000</td>\n",
       "      <td>S</td>\n",
       "    </tr>\n",
       "    <tr>\n",
       "      <th>888</th>\n",
       "      <td>0</td>\n",
       "      <td>3</td>\n",
       "      <td>female</td>\n",
       "      <td>NaN</td>\n",
       "      <td>1</td>\n",
       "      <td>2</td>\n",
       "      <td>23.4500</td>\n",
       "      <td>S</td>\n",
       "    </tr>\n",
       "    <tr>\n",
       "      <th>889</th>\n",
       "      <td>1</td>\n",
       "      <td>1</td>\n",
       "      <td>male</td>\n",
       "      <td>26.0</td>\n",
       "      <td>0</td>\n",
       "      <td>0</td>\n",
       "      <td>30.0000</td>\n",
       "      <td>C</td>\n",
       "    </tr>\n",
       "    <tr>\n",
       "      <th>890</th>\n",
       "      <td>0</td>\n",
       "      <td>3</td>\n",
       "      <td>male</td>\n",
       "      <td>32.0</td>\n",
       "      <td>0</td>\n",
       "      <td>0</td>\n",
       "      <td>7.7500</td>\n",
       "      <td>Q</td>\n",
       "    </tr>\n",
       "  </tbody>\n",
       "</table>\n",
       "<p>891 rows × 8 columns</p>\n",
       "</div>"
      ],
      "text/plain": [
       "     Survived  Pclass     Sex   Age  SibSp  Parch     Fare Embarked\n",
       "0           0       3    male  22.0      1      0   7.2500        S\n",
       "1           1       1  female  38.0      1      0  71.2833        C\n",
       "2           1       3  female  26.0      0      0   7.9250        S\n",
       "3           1       1  female  35.0      1      0  53.1000        S\n",
       "4           0       3    male  35.0      0      0   8.0500        S\n",
       "..        ...     ...     ...   ...    ...    ...      ...      ...\n",
       "886         0       2    male  27.0      0      0  13.0000        S\n",
       "887         1       1  female  19.0      0      0  30.0000        S\n",
       "888         0       3  female   NaN      1      2  23.4500        S\n",
       "889         1       1    male  26.0      0      0  30.0000        C\n",
       "890         0       3    male  32.0      0      0   7.7500        Q\n",
       "\n",
       "[891 rows x 8 columns]"
      ]
     },
     "execution_count": 23,
     "metadata": {
      "tags": []
     },
     "output_type": "execute_result"
    }
   ],
   "source": [
    "dados = dados.drop(columns=['PassengerId', 'Name', 'Ticket', 'Cabin'])\n",
    "dados"
   ]
  },
  {
   "cell_type": "markdown",
   "metadata": {
    "id": "-Z-2-JHuK4Lu"
   },
   "source": [
    "Separando em dados numéricos e categóricos"
   ]
  },
  {
   "cell_type": "code",
   "execution_count": null,
   "metadata": {
    "colab": {
     "base_uri": "https://localhost:8080/",
     "height": 425
    },
    "executionInfo": {
     "elapsed": 1027,
     "status": "ok",
     "timestamp": 1605574246833,
     "user": {
      "displayName": "Joao Marco Oliveira Barros",
      "photoUrl": "https://lh3.googleusercontent.com/a-/AOh14GhlalpTrWcpNDZNwz3_FJ1R_r7JrQKdU9vifSepwA=s64",
      "userId": "03055836678225249861"
     },
     "user_tz": 180
    },
    "id": "0ddmmGvVK8KK",
    "outputId": "8e5089dc-a41f-4073-da82-6d5666fff176"
   },
   "outputs": [
    {
     "name": "stdout",
     "output_type": "stream",
     "text": [
      "Index(['Survived', 'Pclass', 'Age', 'SibSp', 'Parch', 'Fare'], dtype='object')\n"
     ]
    },
    {
     "data": {
      "text/html": [
       "<div>\n",
       "<style scoped>\n",
       "    .dataframe tbody tr th:only-of-type {\n",
       "        vertical-align: middle;\n",
       "    }\n",
       "\n",
       "    .dataframe tbody tr th {\n",
       "        vertical-align: top;\n",
       "    }\n",
       "\n",
       "    .dataframe thead th {\n",
       "        text-align: right;\n",
       "    }\n",
       "</style>\n",
       "<table border=\"1\" class=\"dataframe\">\n",
       "  <thead>\n",
       "    <tr style=\"text-align: right;\">\n",
       "      <th></th>\n",
       "      <th>Survived</th>\n",
       "      <th>Pclass</th>\n",
       "      <th>Age</th>\n",
       "      <th>SibSp</th>\n",
       "      <th>Parch</th>\n",
       "      <th>Fare</th>\n",
       "    </tr>\n",
       "  </thead>\n",
       "  <tbody>\n",
       "    <tr>\n",
       "      <th>0</th>\n",
       "      <td>0</td>\n",
       "      <td>3</td>\n",
       "      <td>22.0</td>\n",
       "      <td>1</td>\n",
       "      <td>0</td>\n",
       "      <td>7.2500</td>\n",
       "    </tr>\n",
       "    <tr>\n",
       "      <th>1</th>\n",
       "      <td>1</td>\n",
       "      <td>1</td>\n",
       "      <td>38.0</td>\n",
       "      <td>1</td>\n",
       "      <td>0</td>\n",
       "      <td>71.2833</td>\n",
       "    </tr>\n",
       "    <tr>\n",
       "      <th>2</th>\n",
       "      <td>1</td>\n",
       "      <td>3</td>\n",
       "      <td>26.0</td>\n",
       "      <td>0</td>\n",
       "      <td>0</td>\n",
       "      <td>7.9250</td>\n",
       "    </tr>\n",
       "    <tr>\n",
       "      <th>3</th>\n",
       "      <td>1</td>\n",
       "      <td>1</td>\n",
       "      <td>35.0</td>\n",
       "      <td>1</td>\n",
       "      <td>0</td>\n",
       "      <td>53.1000</td>\n",
       "    </tr>\n",
       "    <tr>\n",
       "      <th>4</th>\n",
       "      <td>0</td>\n",
       "      <td>3</td>\n",
       "      <td>35.0</td>\n",
       "      <td>0</td>\n",
       "      <td>0</td>\n",
       "      <td>8.0500</td>\n",
       "    </tr>\n",
       "    <tr>\n",
       "      <th>...</th>\n",
       "      <td>...</td>\n",
       "      <td>...</td>\n",
       "      <td>...</td>\n",
       "      <td>...</td>\n",
       "      <td>...</td>\n",
       "      <td>...</td>\n",
       "    </tr>\n",
       "    <tr>\n",
       "      <th>886</th>\n",
       "      <td>0</td>\n",
       "      <td>2</td>\n",
       "      <td>27.0</td>\n",
       "      <td>0</td>\n",
       "      <td>0</td>\n",
       "      <td>13.0000</td>\n",
       "    </tr>\n",
       "    <tr>\n",
       "      <th>887</th>\n",
       "      <td>1</td>\n",
       "      <td>1</td>\n",
       "      <td>19.0</td>\n",
       "      <td>0</td>\n",
       "      <td>0</td>\n",
       "      <td>30.0000</td>\n",
       "    </tr>\n",
       "    <tr>\n",
       "      <th>888</th>\n",
       "      <td>0</td>\n",
       "      <td>3</td>\n",
       "      <td>NaN</td>\n",
       "      <td>1</td>\n",
       "      <td>2</td>\n",
       "      <td>23.4500</td>\n",
       "    </tr>\n",
       "    <tr>\n",
       "      <th>889</th>\n",
       "      <td>1</td>\n",
       "      <td>1</td>\n",
       "      <td>26.0</td>\n",
       "      <td>0</td>\n",
       "      <td>0</td>\n",
       "      <td>30.0000</td>\n",
       "    </tr>\n",
       "    <tr>\n",
       "      <th>890</th>\n",
       "      <td>0</td>\n",
       "      <td>3</td>\n",
       "      <td>32.0</td>\n",
       "      <td>0</td>\n",
       "      <td>0</td>\n",
       "      <td>7.7500</td>\n",
       "    </tr>\n",
       "  </tbody>\n",
       "</table>\n",
       "<p>891 rows × 6 columns</p>\n",
       "</div>"
      ],
      "text/plain": [
       "     Survived  Pclass   Age  SibSp  Parch     Fare\n",
       "0           0       3  22.0      1      0   7.2500\n",
       "1           1       1  38.0      1      0  71.2833\n",
       "2           1       3  26.0      0      0   7.9250\n",
       "3           1       1  35.0      1      0  53.1000\n",
       "4           0       3  35.0      0      0   8.0500\n",
       "..        ...     ...   ...    ...    ...      ...\n",
       "886         0       2  27.0      0      0  13.0000\n",
       "887         1       1  19.0      0      0  30.0000\n",
       "888         0       3   NaN      1      2  23.4500\n",
       "889         1       1  26.0      0      0  30.0000\n",
       "890         0       3  32.0      0      0   7.7500\n",
       "\n",
       "[891 rows x 6 columns]"
      ]
     },
     "execution_count": 24,
     "metadata": {
      "tags": []
     },
     "output_type": "execute_result"
    }
   ],
   "source": [
    "dados_numericos = dados.select_dtypes(include=[np.number])\n",
    "print(dados_numericos.columns)\n",
    "dados_numericos"
   ]
  },
  {
   "cell_type": "code",
   "execution_count": null,
   "metadata": {
    "colab": {
     "base_uri": "https://localhost:8080/",
     "height": 425
    },
    "executionInfo": {
     "elapsed": 1015,
     "status": "ok",
     "timestamp": 1605574246834,
     "user": {
      "displayName": "Joao Marco Oliveira Barros",
      "photoUrl": "https://lh3.googleusercontent.com/a-/AOh14GhlalpTrWcpNDZNwz3_FJ1R_r7JrQKdU9vifSepwA=s64",
      "userId": "03055836678225249861"
     },
     "user_tz": 180
    },
    "id": "tzUW4FdhLDWp",
    "outputId": "f14cb19d-22b9-45ff-bf99-251a4544ddab"
   },
   "outputs": [
    {
     "name": "stdout",
     "output_type": "stream",
     "text": [
      "Index(['Sex', 'Embarked'], dtype='object')\n"
     ]
    },
    {
     "data": {
      "text/html": [
       "<div>\n",
       "<style scoped>\n",
       "    .dataframe tbody tr th:only-of-type {\n",
       "        vertical-align: middle;\n",
       "    }\n",
       "\n",
       "    .dataframe tbody tr th {\n",
       "        vertical-align: top;\n",
       "    }\n",
       "\n",
       "    .dataframe thead th {\n",
       "        text-align: right;\n",
       "    }\n",
       "</style>\n",
       "<table border=\"1\" class=\"dataframe\">\n",
       "  <thead>\n",
       "    <tr style=\"text-align: right;\">\n",
       "      <th></th>\n",
       "      <th>Sex</th>\n",
       "      <th>Embarked</th>\n",
       "    </tr>\n",
       "  </thead>\n",
       "  <tbody>\n",
       "    <tr>\n",
       "      <th>0</th>\n",
       "      <td>male</td>\n",
       "      <td>S</td>\n",
       "    </tr>\n",
       "    <tr>\n",
       "      <th>1</th>\n",
       "      <td>female</td>\n",
       "      <td>C</td>\n",
       "    </tr>\n",
       "    <tr>\n",
       "      <th>2</th>\n",
       "      <td>female</td>\n",
       "      <td>S</td>\n",
       "    </tr>\n",
       "    <tr>\n",
       "      <th>3</th>\n",
       "      <td>female</td>\n",
       "      <td>S</td>\n",
       "    </tr>\n",
       "    <tr>\n",
       "      <th>4</th>\n",
       "      <td>male</td>\n",
       "      <td>S</td>\n",
       "    </tr>\n",
       "    <tr>\n",
       "      <th>...</th>\n",
       "      <td>...</td>\n",
       "      <td>...</td>\n",
       "    </tr>\n",
       "    <tr>\n",
       "      <th>886</th>\n",
       "      <td>male</td>\n",
       "      <td>S</td>\n",
       "    </tr>\n",
       "    <tr>\n",
       "      <th>887</th>\n",
       "      <td>female</td>\n",
       "      <td>S</td>\n",
       "    </tr>\n",
       "    <tr>\n",
       "      <th>888</th>\n",
       "      <td>female</td>\n",
       "      <td>S</td>\n",
       "    </tr>\n",
       "    <tr>\n",
       "      <th>889</th>\n",
       "      <td>male</td>\n",
       "      <td>C</td>\n",
       "    </tr>\n",
       "    <tr>\n",
       "      <th>890</th>\n",
       "      <td>male</td>\n",
       "      <td>Q</td>\n",
       "    </tr>\n",
       "  </tbody>\n",
       "</table>\n",
       "<p>891 rows × 2 columns</p>\n",
       "</div>"
      ],
      "text/plain": [
       "        Sex Embarked\n",
       "0      male        S\n",
       "1    female        C\n",
       "2    female        S\n",
       "3    female        S\n",
       "4      male        S\n",
       "..      ...      ...\n",
       "886    male        S\n",
       "887  female        S\n",
       "888  female        S\n",
       "889    male        C\n",
       "890    male        Q\n",
       "\n",
       "[891 rows x 2 columns]"
      ]
     },
     "execution_count": 25,
     "metadata": {
      "tags": []
     },
     "output_type": "execute_result"
    }
   ],
   "source": [
    "dados_categoricos = dados.select_dtypes(exclude=[np.number])\n",
    "print(dados_categoricos.columns)\n",
    "dados_categoricos"
   ]
  },
  {
   "cell_type": "code",
   "execution_count": null,
   "metadata": {
    "id": "YzxD88k5NhbH"
   },
   "outputs": [],
   "source": [
    "from sklearn.pipeline import Pipeline\n",
    "from sklearn.compose import ColumnTransformer\n",
    "\n",
    "from sklearn.preprocessing import StandardScaler\n",
    "from sklearn.preprocessing import OneHotEncoder\n",
    "from sklearn.impute import SimpleImputer"
   ]
  },
  {
   "cell_type": "markdown",
   "metadata": {
    "id": "9ZmIUk4DVG4Q"
   },
   "source": [
    "Completando dados faltantes, padronizando e transformando atributos categórios para representação numérica"
   ]
  },
  {
   "cell_type": "code",
   "execution_count": null,
   "metadata": {
    "colab": {
     "base_uri": "https://localhost:8080/"
    },
    "executionInfo": {
     "elapsed": 1000,
     "status": "ok",
     "timestamp": 1605574246836,
     "user": {
      "displayName": "Joao Marco Oliveira Barros",
      "photoUrl": "https://lh3.googleusercontent.com/a-/AOh14GhlalpTrWcpNDZNwz3_FJ1R_r7JrQKdU9vifSepwA=s64",
      "userId": "03055836678225249861"
     },
     "user_tz": 180
    },
    "id": "_UfH3av-NjU4",
    "outputId": "91999eba-411e-4e2b-b67f-0ce1d9d982a9"
   },
   "outputs": [
    {
     "name": "stdout",
     "output_type": "stream",
     "text": [
      "(891, 10)\n"
     ]
    }
   ],
   "source": [
    "feature_numericos1 = ['Age', 'SibSp', 'Parch', 'Fare']\n",
    "feature_numericos2 = ['Pclass']\n",
    "feature_categoricos = ['Sex', 'Embarked']\n",
    "\n",
    "pipeline_numerico1 = Pipeline(steps=[('imputer', SimpleImputer(strategy='mean')), ('scaler', StandardScaler())])\n",
    "pipeline_numerico2 = Pipeline(steps=[('imputer', SimpleImputer(strategy='most_frequent')), ('scaler', StandardScaler())])\n",
    "pipeline_categorico = Pipeline(steps=[('imputer', SimpleImputer(strategy='most_frequent')), ('onehot', OneHotEncoder())])\n",
    "\n",
    "transformacao = ColumnTransformer(transformers=[('transformacao numerica1', pipeline_numerico1, feature_numericos1), ('transformacao numerica2', pipeline_numerico2, feature_numericos2), ('transformacao categorica', pipeline_categorico, feature_categoricos)])\n",
    "\n",
    "dados_transformados = transformacao.fit_transform(dados)\n",
    "\n",
    "print(dados_transformados.shape)"
   ]
  },
  {
   "cell_type": "code",
   "execution_count": null,
   "metadata": {
    "colab": {
     "base_uri": "https://localhost:8080/"
    },
    "executionInfo": {
     "elapsed": 990,
     "status": "ok",
     "timestamp": 1605574246837,
     "user": {
      "displayName": "Joao Marco Oliveira Barros",
      "photoUrl": "https://lh3.googleusercontent.com/a-/AOh14GhlalpTrWcpNDZNwz3_FJ1R_r7JrQKdU9vifSepwA=s64",
      "userId": "03055836678225249861"
     },
     "user_tz": 180
    },
    "id": "A_sx6hVQO5RA",
    "outputId": "115fdbed-cdff-45d0-af2b-7f1ecc700d5d"
   },
   "outputs": [
    {
     "name": "stdout",
     "output_type": "stream",
     "text": [
      "10\n"
     ]
    }
   ],
   "source": [
    "nomes = []\n",
    "nomes = nomes + feature_numericos1 + feature_numericos2\n",
    "\n",
    "transformacao_categorica = transformacao.transformers_[2]\n",
    "pipeline_categorico = transformacao_categorica[1]\n",
    "transf_onehot = pipeline_categorico.named_steps['onehot']\n",
    "nomes = nomes + (transf_onehot.get_feature_names().tolist())\n",
    "\n",
    "print(len(nomes))"
   ]
  },
  {
   "cell_type": "code",
   "execution_count": null,
   "metadata": {
    "colab": {
     "base_uri": "https://localhost:8080/",
     "height": 407
    },
    "executionInfo": {
     "elapsed": 978,
     "status": "ok",
     "timestamp": 1605574246838,
     "user": {
      "displayName": "Joao Marco Oliveira Barros",
      "photoUrl": "https://lh3.googleusercontent.com/a-/AOh14GhlalpTrWcpNDZNwz3_FJ1R_r7JrQKdU9vifSepwA=s64",
      "userId": "03055836678225249861"
     },
     "user_tz": 180
    },
    "id": "hCAEqD1nQfOi",
    "outputId": "ad7add26-bd5e-49ce-d0f1-f254d5fbbd03"
   },
   "outputs": [
    {
     "data": {
      "text/html": [
       "<div>\n",
       "<style scoped>\n",
       "    .dataframe tbody tr th:only-of-type {\n",
       "        vertical-align: middle;\n",
       "    }\n",
       "\n",
       "    .dataframe tbody tr th {\n",
       "        vertical-align: top;\n",
       "    }\n",
       "\n",
       "    .dataframe thead th {\n",
       "        text-align: right;\n",
       "    }\n",
       "</style>\n",
       "<table border=\"1\" class=\"dataframe\">\n",
       "  <thead>\n",
       "    <tr style=\"text-align: right;\">\n",
       "      <th></th>\n",
       "      <th>Age</th>\n",
       "      <th>SibSp</th>\n",
       "      <th>Parch</th>\n",
       "      <th>Fare</th>\n",
       "      <th>Pclass</th>\n",
       "      <th>x0_female</th>\n",
       "      <th>x0_male</th>\n",
       "      <th>x1_C</th>\n",
       "      <th>x1_Q</th>\n",
       "      <th>x1_S</th>\n",
       "    </tr>\n",
       "  </thead>\n",
       "  <tbody>\n",
       "    <tr>\n",
       "      <th>0</th>\n",
       "      <td>-0.592481</td>\n",
       "      <td>0.432793</td>\n",
       "      <td>-0.473674</td>\n",
       "      <td>-0.502445</td>\n",
       "      <td>0.827377</td>\n",
       "      <td>0.0</td>\n",
       "      <td>1.0</td>\n",
       "      <td>0.0</td>\n",
       "      <td>0.0</td>\n",
       "      <td>1.0</td>\n",
       "    </tr>\n",
       "    <tr>\n",
       "      <th>1</th>\n",
       "      <td>0.638789</td>\n",
       "      <td>0.432793</td>\n",
       "      <td>-0.473674</td>\n",
       "      <td>0.786845</td>\n",
       "      <td>-1.566107</td>\n",
       "      <td>1.0</td>\n",
       "      <td>0.0</td>\n",
       "      <td>1.0</td>\n",
       "      <td>0.0</td>\n",
       "      <td>0.0</td>\n",
       "    </tr>\n",
       "    <tr>\n",
       "      <th>2</th>\n",
       "      <td>-0.284663</td>\n",
       "      <td>-0.474545</td>\n",
       "      <td>-0.473674</td>\n",
       "      <td>-0.488854</td>\n",
       "      <td>0.827377</td>\n",
       "      <td>1.0</td>\n",
       "      <td>0.0</td>\n",
       "      <td>0.0</td>\n",
       "      <td>0.0</td>\n",
       "      <td>1.0</td>\n",
       "    </tr>\n",
       "    <tr>\n",
       "      <th>3</th>\n",
       "      <td>0.407926</td>\n",
       "      <td>0.432793</td>\n",
       "      <td>-0.473674</td>\n",
       "      <td>0.420730</td>\n",
       "      <td>-1.566107</td>\n",
       "      <td>1.0</td>\n",
       "      <td>0.0</td>\n",
       "      <td>0.0</td>\n",
       "      <td>0.0</td>\n",
       "      <td>1.0</td>\n",
       "    </tr>\n",
       "    <tr>\n",
       "      <th>4</th>\n",
       "      <td>0.407926</td>\n",
       "      <td>-0.474545</td>\n",
       "      <td>-0.473674</td>\n",
       "      <td>-0.486337</td>\n",
       "      <td>0.827377</td>\n",
       "      <td>0.0</td>\n",
       "      <td>1.0</td>\n",
       "      <td>0.0</td>\n",
       "      <td>0.0</td>\n",
       "      <td>1.0</td>\n",
       "    </tr>\n",
       "    <tr>\n",
       "      <th>...</th>\n",
       "      <td>...</td>\n",
       "      <td>...</td>\n",
       "      <td>...</td>\n",
       "      <td>...</td>\n",
       "      <td>...</td>\n",
       "      <td>...</td>\n",
       "      <td>...</td>\n",
       "      <td>...</td>\n",
       "      <td>...</td>\n",
       "      <td>...</td>\n",
       "    </tr>\n",
       "    <tr>\n",
       "      <th>886</th>\n",
       "      <td>-0.207709</td>\n",
       "      <td>-0.474545</td>\n",
       "      <td>-0.473674</td>\n",
       "      <td>-0.386671</td>\n",
       "      <td>-0.369365</td>\n",
       "      <td>0.0</td>\n",
       "      <td>1.0</td>\n",
       "      <td>0.0</td>\n",
       "      <td>0.0</td>\n",
       "      <td>1.0</td>\n",
       "    </tr>\n",
       "    <tr>\n",
       "      <th>887</th>\n",
       "      <td>-0.823344</td>\n",
       "      <td>-0.474545</td>\n",
       "      <td>-0.473674</td>\n",
       "      <td>-0.044381</td>\n",
       "      <td>-1.566107</td>\n",
       "      <td>1.0</td>\n",
       "      <td>0.0</td>\n",
       "      <td>0.0</td>\n",
       "      <td>0.0</td>\n",
       "      <td>1.0</td>\n",
       "    </tr>\n",
       "    <tr>\n",
       "      <th>888</th>\n",
       "      <td>0.000000</td>\n",
       "      <td>0.432793</td>\n",
       "      <td>2.008933</td>\n",
       "      <td>-0.176263</td>\n",
       "      <td>0.827377</td>\n",
       "      <td>1.0</td>\n",
       "      <td>0.0</td>\n",
       "      <td>0.0</td>\n",
       "      <td>0.0</td>\n",
       "      <td>1.0</td>\n",
       "    </tr>\n",
       "    <tr>\n",
       "      <th>889</th>\n",
       "      <td>-0.284663</td>\n",
       "      <td>-0.474545</td>\n",
       "      <td>-0.473674</td>\n",
       "      <td>-0.044381</td>\n",
       "      <td>-1.566107</td>\n",
       "      <td>0.0</td>\n",
       "      <td>1.0</td>\n",
       "      <td>1.0</td>\n",
       "      <td>0.0</td>\n",
       "      <td>0.0</td>\n",
       "    </tr>\n",
       "    <tr>\n",
       "      <th>890</th>\n",
       "      <td>0.177063</td>\n",
       "      <td>-0.474545</td>\n",
       "      <td>-0.473674</td>\n",
       "      <td>-0.492378</td>\n",
       "      <td>0.827377</td>\n",
       "      <td>0.0</td>\n",
       "      <td>1.0</td>\n",
       "      <td>0.0</td>\n",
       "      <td>1.0</td>\n",
       "      <td>0.0</td>\n",
       "    </tr>\n",
       "  </tbody>\n",
       "</table>\n",
       "<p>891 rows × 10 columns</p>\n",
       "</div>"
      ],
      "text/plain": [
       "          Age     SibSp     Parch      Fare  ...  x0_male  x1_C  x1_Q  x1_S\n",
       "0   -0.592481  0.432793 -0.473674 -0.502445  ...      1.0   0.0   0.0   1.0\n",
       "1    0.638789  0.432793 -0.473674  0.786845  ...      0.0   1.0   0.0   0.0\n",
       "2   -0.284663 -0.474545 -0.473674 -0.488854  ...      0.0   0.0   0.0   1.0\n",
       "3    0.407926  0.432793 -0.473674  0.420730  ...      0.0   0.0   0.0   1.0\n",
       "4    0.407926 -0.474545 -0.473674 -0.486337  ...      1.0   0.0   0.0   1.0\n",
       "..        ...       ...       ...       ...  ...      ...   ...   ...   ...\n",
       "886 -0.207709 -0.474545 -0.473674 -0.386671  ...      1.0   0.0   0.0   1.0\n",
       "887 -0.823344 -0.474545 -0.473674 -0.044381  ...      0.0   0.0   0.0   1.0\n",
       "888  0.000000  0.432793  2.008933 -0.176263  ...      0.0   0.0   0.0   1.0\n",
       "889 -0.284663 -0.474545 -0.473674 -0.044381  ...      1.0   1.0   0.0   0.0\n",
       "890  0.177063 -0.474545 -0.473674 -0.492378  ...      1.0   0.0   1.0   0.0\n",
       "\n",
       "[891 rows x 10 columns]"
      ]
     },
     "execution_count": 29,
     "metadata": {
      "tags": []
     },
     "output_type": "execute_result"
    }
   ],
   "source": [
    "dataframe_proc = pd.DataFrame(data = dados_transformados, columns=nomes)\n",
    "dataframe_proc"
   ]
  },
  {
   "cell_type": "markdown",
   "metadata": {
    "id": "WBzDfSbVZCSP"
   },
   "source": [
    "Vamos agora encontrar a correlação entre os atributos utilizando a matriz de correlação com o método de Pearson, para definir as features mais importantes para o problema de classificação. \n"
   ]
  },
  {
   "cell_type": "code",
   "execution_count": null,
   "metadata": {
    "colab": {
     "base_uri": "https://localhost:8080/",
     "height": 329
    },
    "executionInfo": {
     "elapsed": 2177,
     "status": "ok",
     "timestamp": 1605574248066,
     "user": {
      "displayName": "Joao Marco Oliveira Barros",
      "photoUrl": "https://lh3.googleusercontent.com/a-/AOh14GhlalpTrWcpNDZNwz3_FJ1R_r7JrQKdU9vifSepwA=s64",
      "userId": "03055836678225249861"
     },
     "user_tz": 180
    },
    "id": "LdmcikRhZB5Z",
    "outputId": "447299de-802a-412e-f35d-8ff54790cebd"
   },
   "outputs": [
    {
     "data": {
      "text/plain": [
       "<matplotlib.axes._subplots.AxesSubplot at 0x7f8aca957da0>"
      ]
     },
     "execution_count": 30,
     "metadata": {
      "tags": []
     },
     "output_type": "execute_result"
    },
    {
     "data": {
      "image/png": "[encoded data removed]",
      "text/plain": [
       "<Figure size 432x288 with 2 Axes>"
      ]
     },
     "metadata": {
      "needs_background": "light",
      "tags": []
     },
     "output_type": "display_data"
    }
   ],
   "source": [
    "from seaborn import heatmap\n",
    "\n",
    "dataframe_proc['Survived'] = dados['Survived']\n",
    "\n",
    "cor_pearson = dataframe_proc.corr(method='pearson').round(2)\n",
    "heatmap_num = heatmap(cor_pearson, annot=True)\n",
    "heatmap_num"
   ]
  },
  {
   "cell_type": "markdown",
   "metadata": {
    "id": "EWObe1MYaTYQ"
   },
   "source": [
    "Como Parch e SibSp apresentaram uma correlação de 0.41, considerou-se que ambos são bem dependentes, podendo ser mantida somente uma delas. Como Parch possui uma ligeira correlação maior com a saída Survived, foi escolhido por manter Parch e excluir SibSp."
   ]
  },
  {
   "cell_type": "code",
   "execution_count": null,
   "metadata": {
    "colab": {
     "base_uri": "https://localhost:8080/",
     "height": 407
    },
    "executionInfo": {
     "elapsed": 2179,
     "status": "ok",
     "timestamp": 1605574248080,
     "user": {
      "displayName": "Joao Marco Oliveira Barros",
      "photoUrl": "https://lh3.googleusercontent.com/a-/AOh14GhlalpTrWcpNDZNwz3_FJ1R_r7JrQKdU9vifSepwA=s64",
      "userId": "03055836678225249861"
     },
     "user_tz": 180
    },
    "id": "opkzo52vcr0n",
    "outputId": "00612452-502b-4a58-c687-a34fbe995153"
   },
   "outputs": [
    {
     "data": {
      "text/html": [
       "<div>\n",
       "<style scoped>\n",
       "    .dataframe tbody tr th:only-of-type {\n",
       "        vertical-align: middle;\n",
       "    }\n",
       "\n",
       "    .dataframe tbody tr th {\n",
       "        vertical-align: top;\n",
       "    }\n",
       "\n",
       "    .dataframe thead th {\n",
       "        text-align: right;\n",
       "    }\n",
       "</style>\n",
       "<table border=\"1\" class=\"dataframe\">\n",
       "  <thead>\n",
       "    <tr style=\"text-align: right;\">\n",
       "      <th></th>\n",
       "      <th>Age</th>\n",
       "      <th>Parch</th>\n",
       "      <th>Fare</th>\n",
       "      <th>Pclass</th>\n",
       "      <th>x0_female</th>\n",
       "      <th>x0_male</th>\n",
       "      <th>x1_C</th>\n",
       "      <th>x1_Q</th>\n",
       "      <th>x1_S</th>\n",
       "    </tr>\n",
       "  </thead>\n",
       "  <tbody>\n",
       "    <tr>\n",
       "      <th>0</th>\n",
       "      <td>-0.592481</td>\n",
       "      <td>-0.473674</td>\n",
       "      <td>-0.502445</td>\n",
       "      <td>0.827377</td>\n",
       "      <td>0.0</td>\n",
       "      <td>1.0</td>\n",
       "      <td>0.0</td>\n",
       "      <td>0.0</td>\n",
       "      <td>1.0</td>\n",
       "    </tr>\n",
       "    <tr>\n",
       "      <th>1</th>\n",
       "      <td>0.638789</td>\n",
       "      <td>-0.473674</td>\n",
       "      <td>0.786845</td>\n",
       "      <td>-1.566107</td>\n",
       "      <td>1.0</td>\n",
       "      <td>0.0</td>\n",
       "      <td>1.0</td>\n",
       "      <td>0.0</td>\n",
       "      <td>0.0</td>\n",
       "    </tr>\n",
       "    <tr>\n",
       "      <th>2</th>\n",
       "      <td>-0.284663</td>\n",
       "      <td>-0.473674</td>\n",
       "      <td>-0.488854</td>\n",
       "      <td>0.827377</td>\n",
       "      <td>1.0</td>\n",
       "      <td>0.0</td>\n",
       "      <td>0.0</td>\n",
       "      <td>0.0</td>\n",
       "      <td>1.0</td>\n",
       "    </tr>\n",
       "    <tr>\n",
       "      <th>3</th>\n",
       "      <td>0.407926</td>\n",
       "      <td>-0.473674</td>\n",
       "      <td>0.420730</td>\n",
       "      <td>-1.566107</td>\n",
       "      <td>1.0</td>\n",
       "      <td>0.0</td>\n",
       "      <td>0.0</td>\n",
       "      <td>0.0</td>\n",
       "      <td>1.0</td>\n",
       "    </tr>\n",
       "    <tr>\n",
       "      <th>4</th>\n",
       "      <td>0.407926</td>\n",
       "      <td>-0.473674</td>\n",
       "      <td>-0.486337</td>\n",
       "      <td>0.827377</td>\n",
       "      <td>0.0</td>\n",
       "      <td>1.0</td>\n",
       "      <td>0.0</td>\n",
       "      <td>0.0</td>\n",
       "      <td>1.0</td>\n",
       "    </tr>\n",
       "    <tr>\n",
       "      <th>...</th>\n",
       "      <td>...</td>\n",
       "      <td>...</td>\n",
       "      <td>...</td>\n",
       "      <td>...</td>\n",
       "      <td>...</td>\n",
       "      <td>...</td>\n",
       "      <td>...</td>\n",
       "      <td>...</td>\n",
       "      <td>...</td>\n",
       "    </tr>\n",
       "    <tr>\n",
       "      <th>886</th>\n",
       "      <td>-0.207709</td>\n",
       "      <td>-0.473674</td>\n",
       "      <td>-0.386671</td>\n",
       "      <td>-0.369365</td>\n",
       "      <td>0.0</td>\n",
       "      <td>1.0</td>\n",
       "      <td>0.0</td>\n",
       "      <td>0.0</td>\n",
       "      <td>1.0</td>\n",
       "    </tr>\n",
       "    <tr>\n",
       "      <th>887</th>\n",
       "      <td>-0.823344</td>\n",
       "      <td>-0.473674</td>\n",
       "      <td>-0.044381</td>\n",
       "      <td>-1.566107</td>\n",
       "      <td>1.0</td>\n",
       "      <td>0.0</td>\n",
       "      <td>0.0</td>\n",
       "      <td>0.0</td>\n",
       "      <td>1.0</td>\n",
       "    </tr>\n",
       "    <tr>\n",
       "      <th>888</th>\n",
       "      <td>0.000000</td>\n",
       "      <td>2.008933</td>\n",
       "      <td>-0.176263</td>\n",
       "      <td>0.827377</td>\n",
       "      <td>1.0</td>\n",
       "      <td>0.0</td>\n",
       "      <td>0.0</td>\n",
       "      <td>0.0</td>\n",
       "      <td>1.0</td>\n",
       "    </tr>\n",
       "    <tr>\n",
       "      <th>889</th>\n",
       "      <td>-0.284663</td>\n",
       "      <td>-0.473674</td>\n",
       "      <td>-0.044381</td>\n",
       "      <td>-1.566107</td>\n",
       "      <td>0.0</td>\n",
       "      <td>1.0</td>\n",
       "      <td>1.0</td>\n",
       "      <td>0.0</td>\n",
       "      <td>0.0</td>\n",
       "    </tr>\n",
       "    <tr>\n",
       "      <th>890</th>\n",
       "      <td>0.177063</td>\n",
       "      <td>-0.473674</td>\n",
       "      <td>-0.492378</td>\n",
       "      <td>0.827377</td>\n",
       "      <td>0.0</td>\n",
       "      <td>1.0</td>\n",
       "      <td>0.0</td>\n",
       "      <td>1.0</td>\n",
       "      <td>0.0</td>\n",
       "    </tr>\n",
       "  </tbody>\n",
       "</table>\n",
       "<p>891 rows × 9 columns</p>\n",
       "</div>"
      ],
      "text/plain": [
       "          Age     Parch      Fare    Pclass  ...  x0_male  x1_C  x1_Q  x1_S\n",
       "0   -0.592481 -0.473674 -0.502445  0.827377  ...      1.0   0.0   0.0   1.0\n",
       "1    0.638789 -0.473674  0.786845 -1.566107  ...      0.0   1.0   0.0   0.0\n",
       "2   -0.284663 -0.473674 -0.488854  0.827377  ...      0.0   0.0   0.0   1.0\n",
       "3    0.407926 -0.473674  0.420730 -1.566107  ...      0.0   0.0   0.0   1.0\n",
       "4    0.407926 -0.473674 -0.486337  0.827377  ...      1.0   0.0   0.0   1.0\n",
       "..        ...       ...       ...       ...  ...      ...   ...   ...   ...\n",
       "886 -0.207709 -0.473674 -0.386671 -0.369365  ...      1.0   0.0   0.0   1.0\n",
       "887 -0.823344 -0.473674 -0.044381 -1.566107  ...      0.0   0.0   0.0   1.0\n",
       "888  0.000000  2.008933 -0.176263  0.827377  ...      0.0   0.0   0.0   1.0\n",
       "889 -0.284663 -0.473674 -0.044381 -1.566107  ...      1.0   1.0   0.0   0.0\n",
       "890  0.177063 -0.473674 -0.492378  0.827377  ...      1.0   0.0   1.0   0.0\n",
       "\n",
       "[891 rows x 9 columns]"
      ]
     },
     "execution_count": 31,
     "metadata": {
      "tags": []
     },
     "output_type": "execute_result"
    }
   ],
   "source": [
    "dataframe_proc.drop(columns=['SibSp','Survived'])\n",
    "#Foi retirado a saída também Survived"
   ]
  },
  {
   "cell_type": "markdown",
   "metadata": {
    "id": "IQGcfoCEcV9U"
   },
   "source": [
    "Agora iremos utilizar PCA a fim de reduzir a dimensionalidade do conjunto de dados. A dimensionalidade será reduzida de forma que no mínimo 80% da variância dos dados seja mantida"
   ]
  },
  {
   "cell_type": "code",
   "execution_count": null,
   "metadata": {
    "colab": {
     "base_uri": "https://localhost:8080/"
    },
    "executionInfo": {
     "elapsed": 2167,
     "status": "ok",
     "timestamp": 1605574248081,
     "user": {
      "displayName": "Joao Marco Oliveira Barros",
      "photoUrl": "https://lh3.googleusercontent.com/a-/AOh14GhlalpTrWcpNDZNwz3_FJ1R_r7JrQKdU9vifSepwA=s64",
      "userId": "03055836678225249861"
     },
     "user_tz": 180
    },
    "id": "Qsw3J6Wscqmv",
    "outputId": "2121b3c8-5f51-4a5b-ca1a-8f5728715967"
   },
   "outputs": [
    {
     "name": "stdout",
     "output_type": "stream",
     "text": [
      "Variança de cada elemento: [0.28601987 0.2717442  0.12393843 0.0994465  0.07507898]\n",
      "\n",
      "Variancia total do conjunto: 85.62 %\n"
     ]
    }
   ],
   "source": [
    "from sklearn.decomposition import PCA\n",
    "\n",
    "decomposition_pca = PCA(n_components=5, whiten='True')\n",
    "decomposed_dataset = decomposition_pca.fit(dataframe_proc).transform(dataframe_proc)\n",
    "\n",
    "print('Variança de cada elemento:', decomposition_pca.explained_variance_ratio_)\n",
    "print('\\nVariancia total do conjunto:', round(sum(list(decomposition_pca.explained_variance_ratio_))*100,2), '%')\n",
    "\n",
    "#foi possivel reduzir o número total de váriaveis de 9 para 5 mantendo 85% da vâriancia total"
   ]
  },
  {
   "cell_type": "code",
   "execution_count": null,
   "metadata": {
    "colab": {
     "base_uri": "https://localhost:8080/",
     "height": 407
    },
    "executionInfo": {
     "elapsed": 2157,
     "status": "ok",
     "timestamp": 1605574248082,
     "user": {
      "displayName": "Joao Marco Oliveira Barros",
      "photoUrl": "https://lh3.googleusercontent.com/a-/AOh14GhlalpTrWcpNDZNwz3_FJ1R_r7JrQKdU9vifSepwA=s64",
      "userId": "03055836678225249861"
     },
     "user_tz": 180
    },
    "id": "H7OlPxU1srKr",
    "outputId": "b36a09b7-82bb-41dc-918c-1aaaeea71fc2"
   },
   "outputs": [
    {
     "data": {
      "text/html": [
       "<div>\n",
       "<style scoped>\n",
       "    .dataframe tbody tr th:only-of-type {\n",
       "        vertical-align: middle;\n",
       "    }\n",
       "\n",
       "    .dataframe tbody tr th {\n",
       "        vertical-align: top;\n",
       "    }\n",
       "\n",
       "    .dataframe thead th {\n",
       "        text-align: right;\n",
       "    }\n",
       "</style>\n",
       "<table border=\"1\" class=\"dataframe\">\n",
       "  <thead>\n",
       "    <tr style=\"text-align: right;\">\n",
       "      <th></th>\n",
       "      <th>0</th>\n",
       "      <th>1</th>\n",
       "      <th>2</th>\n",
       "      <th>3</th>\n",
       "      <th>4</th>\n",
       "    </tr>\n",
       "  </thead>\n",
       "  <tbody>\n",
       "    <tr>\n",
       "      <th>0</th>\n",
       "      <td>-0.916805</td>\n",
       "      <td>0.263697</td>\n",
       "      <td>-0.014775</td>\n",
       "      <td>-0.922130</td>\n",
       "      <td>0.338776</td>\n",
       "    </tr>\n",
       "    <tr>\n",
       "      <th>1</th>\n",
       "      <td>1.479242</td>\n",
       "      <td>-0.382458</td>\n",
       "      <td>-0.374410</td>\n",
       "      <td>-0.432373</td>\n",
       "      <td>-1.723199</td>\n",
       "    </tr>\n",
       "    <tr>\n",
       "      <th>2</th>\n",
       "      <td>-0.657442</td>\n",
       "      <td>-0.106241</td>\n",
       "      <td>-0.622713</td>\n",
       "      <td>0.687684</td>\n",
       "      <td>-1.285189</td>\n",
       "    </tr>\n",
       "    <tr>\n",
       "      <th>3</th>\n",
       "      <td>1.147373</td>\n",
       "      <td>-0.289970</td>\n",
       "      <td>-0.238371</td>\n",
       "      <td>-0.397844</td>\n",
       "      <td>-1.781729</td>\n",
       "    </tr>\n",
       "    <tr>\n",
       "      <th>4</th>\n",
       "      <td>-0.785032</td>\n",
       "      <td>-0.525158</td>\n",
       "      <td>0.507888</td>\n",
       "      <td>-0.081967</td>\n",
       "      <td>0.590146</td>\n",
       "    </tr>\n",
       "    <tr>\n",
       "      <th>...</th>\n",
       "      <td>...</td>\n",
       "      <td>...</td>\n",
       "      <td>...</td>\n",
       "      <td>...</td>\n",
       "      <td>...</td>\n",
       "    </tr>\n",
       "    <tr>\n",
       "      <th>886</th>\n",
       "      <td>-0.282793</td>\n",
       "      <td>-0.499371</td>\n",
       "      <td>-0.252583</td>\n",
       "      <td>-0.288988</td>\n",
       "      <td>0.534031</td>\n",
       "    </tr>\n",
       "    <tr>\n",
       "      <th>887</th>\n",
       "      <td>0.603494</td>\n",
       "      <td>-0.291483</td>\n",
       "      <td>-1.588490</td>\n",
       "      <td>0.296516</td>\n",
       "      <td>-1.387428</td>\n",
       "    </tr>\n",
       "    <tr>\n",
       "      <th>888</th>\n",
       "      <td>-0.094838</td>\n",
       "      <td>1.329560</td>\n",
       "      <td>1.026580</td>\n",
       "      <td>1.740633</td>\n",
       "      <td>-0.022256</td>\n",
       "    </tr>\n",
       "    <tr>\n",
       "      <th>889</th>\n",
       "      <td>0.658588</td>\n",
       "      <td>-0.674942</td>\n",
       "      <td>-1.077550</td>\n",
       "      <td>-0.254244</td>\n",
       "      <td>-0.122004</td>\n",
       "    </tr>\n",
       "    <tr>\n",
       "      <th>890</th>\n",
       "      <td>-0.822722</td>\n",
       "      <td>-0.461390</td>\n",
       "      <td>0.169475</td>\n",
       "      <td>-0.072682</td>\n",
       "      <td>0.446793</td>\n",
       "    </tr>\n",
       "  </tbody>\n",
       "</table>\n",
       "<p>891 rows × 5 columns</p>\n",
       "</div>"
      ],
      "text/plain": [
       "            0         1         2         3         4\n",
       "0   -0.916805  0.263697 -0.014775 -0.922130  0.338776\n",
       "1    1.479242 -0.382458 -0.374410 -0.432373 -1.723199\n",
       "2   -0.657442 -0.106241 -0.622713  0.687684 -1.285189\n",
       "3    1.147373 -0.289970 -0.238371 -0.397844 -1.781729\n",
       "4   -0.785032 -0.525158  0.507888 -0.081967  0.590146\n",
       "..        ...       ...       ...       ...       ...\n",
       "886 -0.282793 -0.499371 -0.252583 -0.288988  0.534031\n",
       "887  0.603494 -0.291483 -1.588490  0.296516 -1.387428\n",
       "888 -0.094838  1.329560  1.026580  1.740633 -0.022256\n",
       "889  0.658588 -0.674942 -1.077550 -0.254244 -0.122004\n",
       "890 -0.822722 -0.461390  0.169475 -0.072682  0.446793\n",
       "\n",
       "[891 rows x 5 columns]"
      ]
     },
     "execution_count": 33,
     "metadata": {
      "tags": []
     },
     "output_type": "execute_result"
    }
   ],
   "source": [
    "decomposed_dataframe = pd.DataFrame(data = decomposed_dataset)\n",
    "decomposed_dataframe"
   ]
  },
  {
   "cell_type": "markdown",
   "metadata": {
    "id": "pnOhp3b7AvON"
   },
   "source": [
    "\n",
    "\n",
    "---\n",
    "\n",
    "### Questão 02.\n",
    "\n",
    "Utilize o 5x2 cross-validation para calcular a acurácia dos classificadores abaixo. Armazene a acurácia calculada em cada iteração na variavel `scores` para cada um dos modelos.\n",
    "- Lembre-se: No 5x2 cross-validation, a base é dividida igualmente (de preferência de forma estratificada para manter a distribuição das classes) em treinamento e teste 5 vezes.\n",
    "- Dica: Garanta que para todos os modelos os folds serão os mesmos, evitando resultados enviesados pois determinado algoritmo foi avaliado num fold mais fácil. (parâmetro random_state nas classes do Scikit pode ajudar)\n"
   ]
  },
  {
   "cell_type": "code",
   "execution_count": null,
   "metadata": {
    "id": "Bey7Lbpkkl_-"
   },
   "outputs": [],
   "source": [
    "from sklearn.neural_network import MLPClassifier\n",
    "from sklearn.linear_model import Perceptron\n",
    "from sklearn.svm import SVC\n",
    "from sklearn.tree import DecisionTreeClassifier\n",
    "from sklearn.neighbors import KNeighborsClassifier\n",
    "\n",
    "classificadores = {\n",
    "  \"Perceptron\" : {\"modelo\": Perceptron(), \"scores\": []},\n",
    "  \"Multi-Layer Perceptron (15,)\" : {\"modelo\": MLPClassifier(random_state=1, hidden_layer_sizes=(15,), max_iter=2000), \"scores\": []},\n",
    "  \"SVM Polinomial Grau 3\" : {\"modelo\": SVC(kernel='poly', degree=3, gamma=1), \"scores\": []},\n",
    "  \"Árvore Decisão Critério Gini\" : {\"modelo\": DecisionTreeClassifier(criterion='gini'), \"scores\": []},  \n",
    "  \"KNN k=5\" : {\"modelo\": KNeighborsClassifier(n_neighbors=5), \"scores\": []}\n",
    "}"
   ]
  },
  {
   "cell_type": "code",
   "execution_count": null,
   "metadata": {
    "id": "fNei7LC4ketm"
   },
   "outputs": [],
   "source": [
    "from sklearn.model_selection import StratifiedKFold\n",
    "from sklearn.metrics import accuracy_score\n",
    "\n",
    "#Sementes utilizadas para separação entre conjunto de treino e validação\n",
    "seeds = [18, 8, 101, 1234, 123]\n",
    "\n",
    "for i_s, seed in enumerate(seeds):\n",
    "  \n",
    "  #Divide o conjunto entre treino e validação utilizando uma das sementes\n",
    "  folds = StratifiedKFold(n_splits=2, shuffle=True, random_state=seed)\n",
    "\n",
    "  #Listas que armazenarão a acurácia de cada fold para cada modelo\n",
    "  acc1 = []\n",
    "  acc2 = []\n",
    "  acc3 = []\n",
    "  acc4 = []\n",
    "  acc5 = []\n",
    "\n",
    "  #Iterando sobre 5-2 fold CV\n",
    "  for i_f, (trn_idx, val_idx) in enumerate(folds.split(dados['Survived'], dados['Survived'])):\n",
    "    #Separando em teste e validação\n",
    "    trn_x, trn_y = decomposed_dataframe.iloc[trn_idx], dados['Survived'].iloc[trn_idx]\n",
    "    val_x, val_y = decomposed_dataframe.iloc[val_idx], dados['Survived'].iloc[val_idx]\n",
    "    #Treinando os modelos\n",
    "    classificadores[\"Perceptron\"][\"modelo\"].fit(trn_x, trn_y)\n",
    "    classificadores[\"Multi-Layer Perceptron (15,)\"][\"modelo\"].fit(trn_x, trn_y)\n",
    "    classificadores[\"SVM Polinomial Grau 3\"][\"modelo\"].fit(trn_x, trn_y)\n",
    "    classificadores[\"Árvore Decisão Critério Gini\"][\"modelo\"].fit(trn_x, trn_y)\n",
    "    classificadores[\"KNN k=5\"][\"modelo\"].fit(trn_x, trn_y)\n",
    "    #Computando a acurácia para cada modelo\n",
    "    preds_1 = classificadores[\"Perceptron\"][\"modelo\"].predict(val_x)\n",
    "    preds_2 = classificadores[\"Multi-Layer Perceptron (15,)\"][\"modelo\"].predict(val_x)\n",
    "    preds_3 = classificadores[\"SVM Polinomial Grau 3\"][\"modelo\"].predict(val_x)\n",
    "    preds_4 = classificadores[\"Árvore Decisão Critério Gini\"][\"modelo\"].predict(val_x)\n",
    "    preds_5 = classificadores[\"KNN k=5\"][\"modelo\"].predict(val_x)\n",
    "\n",
    "    acc1.append(accuracy_score(val_y, preds_1))\n",
    "    acc2.append(accuracy_score(val_y, preds_2))\n",
    "    acc3.append(accuracy_score(val_y, preds_3))\n",
    "    acc4.append(accuracy_score(val_y, preds_4))\n",
    "    acc5.append(accuracy_score(val_y, preds_5))\n",
    "  \n",
    "  #Calculando a acurácia média\n",
    "  classificadores[\"Perceptron\"][\"scores\"].append((acc1[0]+acc1[1])/2)\n",
    "  classificadores[\"Multi-Layer Perceptron (15,)\"][\"scores\"].append((acc2[0]+acc2[1])/2)\n",
    "  classificadores[\"SVM Polinomial Grau 3\"][\"scores\"].append((acc3[0]+acc3[1])/2)\n",
    "  classificadores[\"Árvore Decisão Critério Gini\"][\"scores\"].append((acc4[0]+acc4[1])/2)\n",
    "  classificadores[\"KNN k=5\"][\"scores\"].append((acc5[0]+acc5[1])/2)\n",
    "\n",
    "\n"
   ]
  },
  {
   "cell_type": "code",
   "execution_count": null,
   "metadata": {
    "colab": {
     "base_uri": "https://localhost:8080/"
    },
    "executionInfo": {
     "elapsed": 16062,
     "status": "ok",
     "timestamp": 1605574262006,
     "user": {
      "displayName": "Joao Marco Oliveira Barros",
      "photoUrl": "https://lh3.googleusercontent.com/a-/AOh14GhlalpTrWcpNDZNwz3_FJ1R_r7JrQKdU9vifSepwA=s64",
      "userId": "03055836678225249861"
     },
     "user_tz": 180
    },
    "id": "-MuughbCu-77",
    "outputId": "3a0dfc2c-f3cd-4462-da0b-6d9ae4e49841"
   },
   "outputs": [
    {
     "name": "stdout",
     "output_type": "stream",
     "text": [
      "Acurácias Perceptron\n",
      "[0.7587141633496246, 0.8181589157051443, 0.7800876706807074, 0.8428956517357787, 0.8058472313195949]\n",
      "Acurácias Multi-Layer Perceptron (15,)\n",
      "[0.9405451705547438, 0.9337683277069582, 0.9382526326396936, 0.9338010782486018, 0.9371769033103239]\n",
      "Acurácias SVM Polinomial Grau 3\n",
      "[0.8619463898826019, 0.8608202751045497, 0.8810424749332393, 0.8776616113266489, 0.8888925278379605]\n",
      "Acurácias Árvore Decisão Critério Gini\n",
      "[0.8911447573940645, 0.8776515342369124, 0.8799188794276213, 0.8945105053660503, 0.888884970020658]\n",
      "Acurácias KNN k=5\n",
      "[0.9102257268100973, 0.9023504811810349, 0.9191842595858316, 0.905723786970323, 0.921441527686804]\n"
     ]
    }
   ],
   "source": [
    "print(\"Acurácias Perceptron\")\n",
    "print(classificadores[\"Perceptron\"][\"scores\"])\n",
    "print(\"Acurácias Multi-Layer Perceptron (15,)\")\n",
    "print(classificadores[\"Multi-Layer Perceptron (15,)\"][\"scores\"])\n",
    "print(\"Acurácias SVM Polinomial Grau 3\")\n",
    "print(classificadores[\"SVM Polinomial Grau 3\"][\"scores\"])\n",
    "print(\"Acurácias Árvore Decisão Critério Gini\")\n",
    "print(classificadores[\"Árvore Decisão Critério Gini\"][\"scores\"])\n",
    "print(\"Acurácias KNN k=5\")\n",
    "print(classificadores[\"KNN k=5\"][\"scores\"])"
   ]
  },
  {
   "cell_type": "markdown",
   "metadata": {
    "id": "bxEWKcFUPrKB"
   },
   "source": [
    "\n",
    "\n",
    "---\n",
    "\n",
    "### Questão 03.\n",
    "\n",
    "Faça um box-plot da acurácia de cada classificador e selecione os dois melhores classificadores. Verifique se há diferença estatística significante entre suas acurácias utilizando o teste T (`scipy.stats.ttest_rel` pode ajudar). Você pode utilizar outro tipo de teste, desde que faça a justificativa. Considere que há diferença significante se p <= 0.05 (rejeita-se a hipótese nula)\n",
    "- Nesse [link](http://rasbt.github.io/mlxtend/user_guide/evaluate/paired_ttest_5x2cv/) o autor descreve o passo a passo para calculo do teste T manualmente usando 5x2 cross-validation. Este site faz parte da documentação de outra biblioteca, tente usar o scipy ao invés dela ou faça manualmente.\n",
    "- Nesse [link](https://machinelearningmastery.com/statistical-significance-tests-for-comparing-machine-learning-algorithms/) o autor discute alguns pontos interessantes para se escolher um teste estatístico\n",
    "- No [link](https://machinelearningmastery.com/statistical-hypothesis-tests-in-python-cheat-sheet/) é feito um sumário dos testes implementados no scipy"
   ]
  },
  {
   "cell_type": "code",
   "execution_count": null,
   "metadata": {
    "colab": {
     "base_uri": "https://localhost:8080/",
     "height": 358
    },
    "executionInfo": {
     "elapsed": 883,
     "status": "ok",
     "timestamp": 1605574944677,
     "user": {
      "displayName": "Joao Marco Oliveira Barros",
      "photoUrl": "https://lh3.googleusercontent.com/a-/AOh14GhlalpTrWcpNDZNwz3_FJ1R_r7JrQKdU9vifSepwA=s64",
      "userId": "03055836678225249861"
     },
     "user_tz": 180
    },
    "id": "TpS_qc33f2lR",
    "outputId": "e5ea765f-a4d9-462d-8cdb-73cf4d97c4b7"
   },
   "outputs": [
    {
     "name": "stderr",
     "output_type": "stream",
     "text": [
      "/usr/local/lib/python3.6/dist-packages/seaborn/_decorators.py:43: FutureWarning: Pass the following variable as a keyword arg: x. From version 0.12, the only valid positional argument will be `data`, and passing other arguments without an explicit keyword will result in an error or misinterpretation.\n",
      "  FutureWarning\n"
     ]
    },
    {
     "data": {
      "text/plain": [
       "Text(0.5, 1.0, 'Acurácia do Perceptron')"
      ]
     },
     "execution_count": 54,
     "metadata": {
      "tags": []
     },
     "output_type": "execute_result"
    },
    {
     "data": {
      "image/png": "[encoded data removed]",
      "text/plain": [
       "<Figure size 432x288 with 1 Axes>"
      ]
     },
     "metadata": {
      "tags": []
     },
     "output_type": "display_data"
    }
   ],
   "source": [
    "import seaborn as sns\n",
    "sns.set_theme(style=\"whitegrid\")\n",
    "\n",
    "sns.boxplot(classificadores[\"Perceptron\"][\"scores\"]).set_title(\"Acurácia do Perceptron\")\n",
    "\n"
   ]
  },
  {
   "cell_type": "code",
   "execution_count": null,
   "metadata": {
    "colab": {
     "base_uri": "https://localhost:8080/",
     "height": 358
    },
    "executionInfo": {
     "elapsed": 1020,
     "status": "ok",
     "timestamp": 1605575028188,
     "user": {
      "displayName": "Joao Marco Oliveira Barros",
      "photoUrl": "https://lh3.googleusercontent.com/a-/AOh14GhlalpTrWcpNDZNwz3_FJ1R_r7JrQKdU9vifSepwA=s64",
      "userId": "03055836678225249861"
     },
     "user_tz": 180
    },
    "id": "vKEpOdkHtxIG",
    "outputId": "a03b49c4-ff78-466f-c2e8-ade0b3171736"
   },
   "outputs": [
    {
     "name": "stderr",
     "output_type": "stream",
     "text": [
      "/usr/local/lib/python3.6/dist-packages/seaborn/_decorators.py:43: FutureWarning: Pass the following variable as a keyword arg: x. From version 0.12, the only valid positional argument will be `data`, and passing other arguments without an explicit keyword will result in an error or misinterpretation.\n",
      "  FutureWarning\n"
     ]
    },
    {
     "data": {
      "text/plain": [
       "Text(0.5, 1.0, 'Acurácia do Multi-Layer Perceptron (15,)')"
      ]
     },
     "execution_count": 55,
     "metadata": {
      "tags": []
     },
     "output_type": "execute_result"
    },
    {
     "data": {
      "image/png": "[encoded data removed]",
      "text/plain": [
       "<Figure size 432x288 with 1 Axes>"
      ]
     },
     "metadata": {
      "tags": []
     },
     "output_type": "display_data"
    }
   ],
   "source": [
    "sns.boxplot(classificadores[\"Multi-Layer Perceptron (15,)\"][\"scores\"]).set_title(\"Acurácia do Multi-Layer Perceptron (15,)\")\n"
   ]
  },
  {
   "cell_type": "code",
   "execution_count": null,
   "metadata": {
    "colab": {
     "base_uri": "https://localhost:8080/",
     "height": 358
    },
    "executionInfo": {
     "elapsed": 1104,
     "status": "ok",
     "timestamp": 1605575039891,
     "user": {
      "displayName": "Joao Marco Oliveira Barros",
      "photoUrl": "https://lh3.googleusercontent.com/a-/AOh14GhlalpTrWcpNDZNwz3_FJ1R_r7JrQKdU9vifSepwA=s64",
      "userId": "03055836678225249861"
     },
     "user_tz": 180
    },
    "id": "Epl5Jez5urxA",
    "outputId": "a7fef888-645a-42c6-9f32-2b202a2aba6e"
   },
   "outputs": [
    {
     "name": "stderr",
     "output_type": "stream",
     "text": [
      "/usr/local/lib/python3.6/dist-packages/seaborn/_decorators.py:43: FutureWarning: Pass the following variable as a keyword arg: x. From version 0.12, the only valid positional argument will be `data`, and passing other arguments without an explicit keyword will result in an error or misinterpretation.\n",
      "  FutureWarning\n"
     ]
    },
    {
     "data": {
      "text/plain": [
       "Text(0.5, 1.0, 'Acurácia do SVM Polinomial Grau 3')"
      ]
     },
     "execution_count": 56,
     "metadata": {
      "tags": []
     },
     "output_type": "execute_result"
    },
    {
     "data": {
      "image/png": "[encoded data removed]",
      "text/plain": [
       "<Figure size 432x288 with 1 Axes>"
      ]
     },
     "metadata": {
      "tags": []
     },
     "output_type": "display_data"
    }
   ],
   "source": [
    "sns.boxplot(classificadores[\"SVM Polinomial Grau 3\"][\"scores\"]).set_title(\"Acurácia do SVM Polinomial Grau 3\")\n"
   ]
  },
  {
   "cell_type": "code",
   "execution_count": null,
   "metadata": {
    "colab": {
     "base_uri": "https://localhost:8080/",
     "height": 358
    },
    "executionInfo": {
     "elapsed": 1150,
     "status": "ok",
     "timestamp": 1605575050675,
     "user": {
      "displayName": "Joao Marco Oliveira Barros",
      "photoUrl": "https://lh3.googleusercontent.com/a-/AOh14GhlalpTrWcpNDZNwz3_FJ1R_r7JrQKdU9vifSepwA=s64",
      "userId": "03055836678225249861"
     },
     "user_tz": 180
    },
    "id": "BKJ5npu5uuTx",
    "outputId": "f8f98f63-5c93-4373-e7a2-4da5c13a736d"
   },
   "outputs": [
    {
     "name": "stderr",
     "output_type": "stream",
     "text": [
      "/usr/local/lib/python3.6/dist-packages/seaborn/_decorators.py:43: FutureWarning: Pass the following variable as a keyword arg: x. From version 0.12, the only valid positional argument will be `data`, and passing other arguments without an explicit keyword will result in an error or misinterpretation.\n",
      "  FutureWarning\n"
     ]
    },
    {
     "data": {
      "text/plain": [
       "Text(0.5, 1.0, 'Acurácia do Árvore Decisão Critério Gini')"
      ]
     },
     "execution_count": 57,
     "metadata": {
      "tags": []
     },
     "output_type": "execute_result"
    },
    {
     "data": {
      "image/png": "[encoded data removed]",
      "text/plain": [
       "<Figure size 432x288 with 1 Axes>"
      ]
     },
     "metadata": {
      "tags": []
     },
     "output_type": "display_data"
    }
   ],
   "source": [
    "sns.boxplot(classificadores[\"Árvore Decisão Critério Gini\"][\"scores\"]).set_title(\"Acurácia do Árvore Decisão Critério Gini\")\n"
   ]
  },
  {
   "cell_type": "code",
   "execution_count": null,
   "metadata": {
    "colab": {
     "base_uri": "https://localhost:8080/",
     "height": 358
    },
    "executionInfo": {
     "elapsed": 1148,
     "status": "ok",
     "timestamp": 1605575056610,
     "user": {
      "displayName": "Joao Marco Oliveira Barros",
      "photoUrl": "https://lh3.googleusercontent.com/a-/AOh14GhlalpTrWcpNDZNwz3_FJ1R_r7JrQKdU9vifSepwA=s64",
      "userId": "03055836678225249861"
     },
     "user_tz": 180
    },
    "id": "QnftIHODuw1T",
    "outputId": "467c824a-247e-4a05-d064-6133af7a4522"
   },
   "outputs": [
    {
     "name": "stderr",
     "output_type": "stream",
     "text": [
      "/usr/local/lib/python3.6/dist-packages/seaborn/_decorators.py:43: FutureWarning: Pass the following variable as a keyword arg: x. From version 0.12, the only valid positional argument will be `data`, and passing other arguments without an explicit keyword will result in an error or misinterpretation.\n",
      "  FutureWarning\n"
     ]
    },
    {
     "data": {
      "text/plain": [
       "Text(0.5, 1.0, 'Acurácia do KNN k=5')"
      ]
     },
     "execution_count": 58,
     "metadata": {
      "tags": []
     },
     "output_type": "execute_result"
    },
    {
     "data": {
      "image/png": "[encoded data removed]",
      "text/plain": [
       "<Figure size 432x288 with 1 Axes>"
      ]
     },
     "metadata": {
      "tags": []
     },
     "output_type": "display_data"
    }
   ],
   "source": [
    "sns.boxplot(classificadores[\"KNN k=5\"][\"scores\"]).set_title(\"Acurácia do KNN k=5\")"
   ]
  },
  {
   "cell_type": "markdown",
   "metadata": {
    "id": "1N57_5PGv-Jj"
   },
   "source": [
    "Por análise gráfica do intervalo interquartil e da mediana, vemos que a caixa do boxplot dos modelos Multi-Layer Percetron (15,) e do KNN(k=5) apresentaram resultados superiores aos demais. A partir disso realizaremos o teste T entre os dois modelos."
   ]
  },
  {
   "cell_type": "code",
   "execution_count": null,
   "metadata": {
    "colab": {
     "base_uri": "https://localhost:8080/"
    },
    "executionInfo": {
     "elapsed": 785,
     "status": "ok",
     "timestamp": 1605576018909,
     "user": {
      "displayName": "Joao Marco Oliveira Barros",
      "photoUrl": "https://lh3.googleusercontent.com/a-/AOh14GhlalpTrWcpNDZNwz3_FJ1R_r7JrQKdU9vifSepwA=s64",
      "userId": "03055836678225249861"
     },
     "user_tz": 180
    },
    "id": "8kK2EGlmvvty",
    "outputId": "80fcdd48-6276-45d5-90c2-745a020fa121"
   },
   "outputs": [
    {
     "name": "stdout",
     "output_type": "stream",
     "text": [
      "stat=7.883, p=0.001\n",
      "Não há diferença significativa. Provavelmente distribuições diferentes\n"
     ]
    }
   ],
   "source": [
    "from scipy.stats import ttest_rel\n",
    "\n",
    "data1 = classificadores[\"Multi-Layer Perceptron (15,)\"][\"scores\"]\n",
    "data2 = classificadores[\"KNN k=5\"][\"scores\"]\n",
    "\n",
    "stat, p = ttest_rel(data1, data2)\n",
    "print('stat=%.3f, p=%.3f' % (stat, p))\n",
    "if p > 0.05:\n",
    "\tprint('Há diferença significativa. Provavelmente a mesma distribuição')\n",
    "else:\n",
    "\tprint('Não há diferença significativa. Provavelmente distribuições diferentes')"
   ]
  },
  {
   "cell_type": "markdown",
   "metadata": {
    "id": "SWzeYg82_PoF"
   },
   "source": [
    "Conforme verificou-se pelo resultado do Teste-T, não houve diferença estatística significante entre a acurácia dos dois modelos. "
   ]
  },
  {
   "cell_type": "markdown",
   "metadata": {
    "id": "zF13asUuFJRB"
   },
   "source": [
    "\n",
    "\n",
    "---\n",
    "\n",
    "### Questão 04.\n",
    "\n",
    "Separe o conjunto de dados de maneira estratificada (através do parâmetro `stratify` da função `train_test_split`) em 20% para teste e 80% para treino. Depois plote a curva ROC (`sklearn.metrics.plot_roc_curve`) para **todos** os classificadores (no mesmo gráfico). \n",
    "\n",
    "Os melhores classificadores da questão anterior também apresentaram melhor desempenho na curva ROC? O que pode ter ocorrido? Teste diferentes valores de `random_state` na função `train_test_split` e observe o comportamento das curvas.\n",
    "\n",
    "\n",
    "*   Dica: Para plotar múltiplas curvas ROC no mesmo gráfico, defina uma figura com `fig, ax = plt.subplots()` e passe `ax` como parâmetro da função `plot_roc_curve`. Não se esqueça de passar também o nome do classificador para que o seu gráfico fique mais fácil de interpretar\n",
    "\n"
   ]
  },
  {
   "cell_type": "code",
   "execution_count": null,
   "metadata": {
    "colab": {
     "base_uri": "https://localhost:8080/",
     "height": 285
    },
    "executionInfo": {
     "elapsed": 3996,
     "status": "ok",
     "timestamp": 1605578317380,
     "user": {
      "displayName": "Joao Marco Oliveira Barros",
      "photoUrl": "https://lh3.googleusercontent.com/a-/AOh14GhlalpTrWcpNDZNwz3_FJ1R_r7JrQKdU9vifSepwA=s64",
      "userId": "03055836678225249861"
     },
     "user_tz": 180
    },
    "id": "AMuXTA4d2X2Z",
    "outputId": "c8af9ca1-b946-4bc0-f829-2bbfd920cab0"
   },
   "outputs": [
    {
     "data": {
      "image/png": "[encoded data removed]",
      "text/plain": [
       "<Figure size 432x288 with 1 Axes>"
      ]
     },
     "metadata": {
      "tags": []
     },
     "output_type": "display_data"
    }
   ],
   "source": [
    "from sklearn.model_selection import train_test_split\n",
    "from  sklearn.metrics import plot_roc_curve\n",
    "\n",
    "X,y = decomposed_dataframe, dados['Survived']\n",
    "\n",
    "X_train, X_test, y_train, y_test = train_test_split(X, y, test_size=0.2, stratify=y, random_state=10000)\n",
    "\n",
    "perceptron = classificadores[\"Perceptron\"][\"modelo\"]\n",
    "perceptron.fit(X_train, y_train)\n",
    "\n",
    "multilayer = classificadores[\"Multi-Layer Perceptron (15,)\"][\"modelo\"]\n",
    "multilayer.fit(X_train, y_train)\n",
    "\n",
    "svm = classificadores[\"SVM Polinomial Grau 3\"][\"modelo\"]\n",
    "svm.fit(X_train, y_train)\n",
    "\n",
    "dt = classificadores[\"Árvore Decisão Critério Gini\"][\"modelo\"]\n",
    "dt.fit(X_train, y_train)\n",
    "\n",
    "knn5 = classificadores[\"KNN k=5\"][\"modelo\"]\n",
    "knn5.fit(X_train, y_train)\n",
    "\n",
    "\n",
    "classifiers = [perceptron, multilayer, svm, dt, knn5]\n",
    "ax = plt.gca()\n",
    "for i in classifiers:\n",
    "    plot_roc_curve(i, X_test, y_test, ax=ax)\n",
    "\n",
    "plt.show()\n"
   ]
  },
  {
   "cell_type": "markdown",
   "metadata": {
    "id": "w7B41KZZ6J0e"
   },
   "source": [
    "Os classificadores selecionados no exercício anterior também se mostraram superiores nas curvas ROC ao manterem-se mais próximos do canto superior esquerdo. Ao testar diferentes valores para o random_state percebemos que com o aumento do seu valor, ocorre um maior embaralhamento dos dados e por consequência ocorre uma melhora no fit."
   ]
  },
  {
   "cell_type": "markdown",
   "metadata": {
    "id": "bJ_Cove7LSpx"
   },
   "source": [
    "\n",
    "\n",
    "---\n",
    "\n",
    "### Questão 05.\n",
    "\n",
    "Agora utilize a função `plot_roc` definida abaixo para o modelo com maior e menor acurácia (de acordo como você calculou na questão 02). Essa função irá calcular a curva ROC utilizando 10-fold cross-validation, exibindo a curva média bem como as curvas para cada fold. Comente se agora o resultado foi conforme o esperado."
   ]
  },
  {
   "cell_type": "code",
   "execution_count": null,
   "metadata": {
    "id": "cpFUV6mwgH4-"
   },
   "outputs": [],
   "source": [
    "import numpy as np\n",
    "import matplotlib.pyplot as plt\n",
    "from sklearn.metrics import auc\n",
    "from sklearn.metrics import plot_roc_curve\n",
    "from sklearn.model_selection import StratifiedKFold\n",
    "\n",
    "def plot_roc(classifier, X, y):\n",
    "  cv = StratifiedKFold(n_splits=10)  \n",
    "\n",
    "  if isinstance(X, pd.core.frame.DataFrame):\n",
    "    X = X.values\n",
    "  if isinstance(y, pd.core.frame.DataFrame) or isinstance(y, pd.core.series.Series):\n",
    "    y = y.values\n",
    "\n",
    "  tprs = []\n",
    "  aucs = []\n",
    "  mean_fpr = np.linspace(0, 1, 100)\n",
    "\n",
    "  fig, ax = plt.subplots()\n",
    "  for i, (train, test) in enumerate(cv.split(X, y)):\n",
    "      classifier.fit(X[train], y[train])\n",
    "      viz = plot_roc_curve(classifier, X[test], y[test],\n",
    "                          name='ROC fold {}'.format(i),\n",
    "                          alpha=0.3, lw=1, ax=ax)\n",
    "      interp_tpr = np.interp(mean_fpr, viz.fpr, viz.tpr)\n",
    "      interp_tpr[0] = 0.0\n",
    "      tprs.append(interp_tpr)\n",
    "      aucs.append(viz.roc_auc)  \n",
    "\n",
    "  mean_tpr = np.mean(tprs, axis=0)\n",
    "  mean_tpr[-1] = 1.0\n",
    "  mean_auc = auc(mean_fpr, mean_tpr)\n",
    "  std_auc = np.std(aucs)\n",
    "  ax.plot(mean_fpr, mean_tpr, color='b',\n",
    "          label=r'Mean ROC (AUC = %0.2f $\\pm$ %0.2f)' % (mean_auc, std_auc),\n",
    "          lw=2, alpha=.8)\n",
    "\n",
    "  std_tpr = np.std(tprs, axis=0)\n",
    "  tprs_upper = np.minimum(mean_tpr + std_tpr, 1)\n",
    "  tprs_lower = np.maximum(mean_tpr - std_tpr, 0)\n",
    "  ax.fill_between(mean_fpr, tprs_lower, tprs_upper, color='grey', alpha=.2,\n",
    "                  label=r'$\\pm$ 1 std. dev.')\n",
    "\n",
    "  ax.set(xlim=[-0.05, 1.05], ylim=[-0.05, 1.05],\n",
    "        title=\"Receiver operating characteristic example\")\n",
    "  ax.legend(loc=\"lower right\")\n",
    "  plt.show()"
   ]
  },
  {
   "cell_type": "code",
   "execution_count": null,
   "metadata": {
    "colab": {
     "base_uri": "https://localhost:8080/",
     "height": 301
    },
    "executionInfo": {
     "elapsed": 4839,
     "status": "ok",
     "timestamp": 1605578528173,
     "user": {
      "displayName": "Joao Marco Oliveira Barros",
      "photoUrl": "https://lh3.googleusercontent.com/a-/AOh14GhlalpTrWcpNDZNwz3_FJ1R_r7JrQKdU9vifSepwA=s64",
      "userId": "03055836678225249861"
     },
     "user_tz": 180
    },
    "id": "5v2DkR5Uhuji",
    "outputId": "fa498923-f8f5-4fa9-cc4d-489812caaaac"
   },
   "outputs": [
    {
     "data": {
      "image/png": "[encoded data removed]",
      "text/plain": [
       "<Figure size 432x288 with 1 Axes>"
      ]
     },
     "metadata": {
      "tags": []
     },
     "output_type": "display_data"
    }
   ],
   "source": [
    "plot_roc(multilayer, X_test, y_test)"
   ]
  },
  {
   "cell_type": "code",
   "execution_count": null,
   "metadata": {
    "colab": {
     "base_uri": "https://localhost:8080/",
     "height": 301
    },
    "executionInfo": {
     "elapsed": 1385,
     "status": "ok",
     "timestamp": 1605578532555,
     "user": {
      "displayName": "Joao Marco Oliveira Barros",
      "photoUrl": "https://lh3.googleusercontent.com/a-/AOh14GhlalpTrWcpNDZNwz3_FJ1R_r7JrQKdU9vifSepwA=s64",
      "userId": "03055836678225249861"
     },
     "user_tz": 180
    },
    "id": "s4blNf7_RgRX",
    "outputId": "0350812a-6832-4c9f-bbea-f2d2a6072246"
   },
   "outputs": [
    {
     "data": {
      "image/png": "[encoded data removed]",
      "text/plain": [
       "<Figure size 432x288 with 1 Axes>"
      ]
     },
     "metadata": {
      "tags": []
     },
     "output_type": "display_data"
    }
   ],
   "source": [
    "plot_roc(perceptron,X_test, y_test)"
   ]
  },
  {
   "cell_type": "markdown",
   "metadata": {
    "id": "K7wDFhvS8b9T"
   },
   "source": [
    "Verificou-se que os resultados das curvas variam de acordo com o número de folds. No melhor classificador (Multi-Layer) obtivemos resultados com um bom desempenho (assim como ocorreu no exercício 2), antigindo o valor de máxima eficiência com fold = 3. Em comparação ao pior classificador (Percetron), obtivemos melhores resultado do que o esperado para folds superiores, chegando inclusive a AUC de 0.97, muito próximo ao valor ótimo (AUC = 1). "
   ]
  }
 ],
 "metadata": {
  "colab": {
   "collapsed_sections": [],
   "name": "Exercício - Teste de Hipótese.ipynb",
   "provenance": [
    {
     "file_id": "1g1GViI65HbZUQRYuQ130gR7iakj0iU66",
     "timestamp": 1605546274607
    },
    {
     "file_id": "1OA_6OG9MgLkcOXRGuv0ISNn2iQtOtYaC",
     "timestamp": 1604955461489
    },
    {
     "file_id": "1rDUjv2mXomJnKX-xBoU6jWw25p52b0vA",
     "timestamp": 1591284005613
    },
    {
     "file_id": "1vh_baUGNIgEvcwczP8WSdv4Mkhb3aVrC",
     "timestamp": 1591283811719
    }
   ]
  },
  "kernelspec": {
   "display_name": "Python 3",
   "language": "python",
   "name": "python3"
  },
  "language_info": {
   "codemirror_mode": {
    "name": "ipython",
    "version": 3
   },
   "file_extension": ".py",
   "mimetype": "text/x-python",
   "name": "python",
   "nbconvert_exporter": "python",
   "pygments_lexer": "ipython3",
   "version": "3.7.7"
  }
 },
 "nbformat": 4,
 "nbformat_minor": 1
}
